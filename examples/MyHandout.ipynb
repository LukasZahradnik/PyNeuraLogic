{
 "cells": [
  {
   "cell_type": "code",
   "execution_count": null,
   "metadata": {},
   "outputs": [],
   "source": [
    "from neuralogic.nn import get_evaluator\n",
    "from neuralogic.core import R, Template, V, Settings, Transformation, Combination, Aggregation\n",
    "from neuralogic.core.constructs.function.tree import FunctionContainer\n",
    "from neuralogic.core.settings import Settings\n",
    "from neuralogic.dataset import Dataset\n",
    "from neuralogic.optim import SGD\n",
    "\n"
   ]
  },
  {
   "cell_type": "code",
   "execution_count": null,
   "metadata": {},
   "outputs": [],
   "source": [
    "F = FunctionContainer()     # new but necessary feature, necessary to use both round and square brackets for same purpose\n",
    "train_dataset = Dataset()\n",
    "template = Template()\n",
    "\n",
    "train_dataset.add_example([R.b[3], R.c[5]])"
   ]
  },
  {
   "cell_type": "markdown",
   "metadata": {},
   "source": [
    "Ukázka funkční nové syntaxe, kterou jsi po mně chtěl v tom nedávném emailu. Nyní fungují obě varianty stejně.\n",
    "\n",
    "Poměrně obtížné bylo zajistit, aby hranaté závorky fungovaly stejně jako kulaté a zápis aby byl přehlednější. To se mi nakonec povedlo za cenu, že třída FunctionContainer z modulu neuralogic.core.constructs.function.tree je trochu složitější a hůře čitelná."
   ]
  },
  {
   "cell_type": "code",
   "execution_count": null,
   "metadata": {},
   "outputs": [],
   "source": [
    "# 1st option\n",
    "template += (R.message2(V.X)[5,10] <= (x:= R.message1(V.Y)[10,20], y:= R.edge(V.Y, V.X))) >> F.avg(F.relu(x + y))\n",
    "\n",
    "# 2nd option - round brackets\n",
    "template += (R.message2(V.X)[5,10] <= F.avg(F.relu(R.message1(V.Y)[10,20] + R.edge(V.Y, V.X))))\n",
    "\n",
    "# 2nd option - both round and square brackets\n",
    "template += (R.message2(V.X)[5,10] <= F.avg[F.relu(R.message1(V.Y)[10,20] + R.edge(V.Y, V.X))])"
   ]
  }
 ],
 "metadata": {
  "kernelspec": {
   "display_name": "bak",
   "language": "python",
   "name": "python3"
  },
  "language_info": {
   "codemirror_mode": {
    "name": "ipython",
    "version": 3
   },
   "file_extension": ".py",
   "mimetype": "text/x-python",
   "name": "python",
   "nbconvert_exporter": "python",
   "pygments_lexer": "ipython3",
   "version": "3.10.14"
  }
 },
 "nbformat": 4,
 "nbformat_minor": 2
}

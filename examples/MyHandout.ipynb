{
 "cells": [
  {
   "cell_type": "code",
   "execution_count": 1,
   "metadata": {},
   "outputs": [
    {
     "name": "stderr",
     "output_type": "stream",
     "text": [
      "C:\\Users\\kraus\\Plocha\\BAK\\PyNeuraLogicFork\\neuralogic\\core\\builder\\builder.py:4: TqdmExperimentalWarning: Using `tqdm.autonotebook.tqdm` in notebook mode. Use `tqdm.tqdm` instead to force console mode (e.g. in jupyter console)\n",
      "  from tqdm.autonotebook import tqdm\n"
     ]
    }
   ],
   "source": [
    "from neuralogic.nn import get_evaluator\n",
    "from neuralogic.core import R, Template, V, Settings, Transformation, Combination, Aggregation\n",
    "from neuralogic.core.constructs.function.tree import FunctionContainer\n",
    "from neuralogic.core.settings import Settings\n",
    "from neuralogic.dataset import Dataset\n",
    "from neuralogic.optim import SGD"
   ]
  },
  {
   "cell_type": "code",
   "execution_count": 2,
   "metadata": {},
   "outputs": [],
   "source": [
    "F = FunctionContainer()     # new but necessary feature, necessary to use both round and square brackets for same purpose\n",
    "train_dataset = Dataset()\n",
    "template = Template()\n",
    "settings = Settings(optimizer=SGD(), epochs=1)\n",
    "\n",
    "train_dataset.add_example([R.b[3], R.c[5]])"
   ]
  },
  {
   "cell_type": "markdown",
   "metadata": {},
   "source": [
    "V následující buňce je ukázka funkční nové syntaxe, kterou jsi po mně chtěl v tom nedávném emailu. Nyní fungují tyto obě varianty stejně.\n",
    "\n",
    "Poměrně obtížné bylo zajistit, aby hranaté závorky fungovaly stejně jako kulaté a zápis aby byl přehlednější. To se mi nakonec povedlo za cenu, že třída FunctionContainer z modulu neuralogic.core.constructs.function.tree je trochu složitější a hůře čitelná.\n",
    "\n",
    "POZOR: Pokud odmažeme komentář tak v tuto chvíli hodí kod chybu. Strom syntaxe je vytvořen správně, ale mám někde bug v evaluaci. Více to rozepisuji v další sekci."
   ]
  },
  {
   "cell_type": "code",
   "execution_count": 3,
   "metadata": {},
   "outputs": [],
   "source": [
    "# 1st option\n",
    "#template += (R.message2(V.X)[5,10] <= (x:= R.message1(V.Y)[10,20], y:= R.edge(V.Y, V.X))) >> F.avg(F.relu(x + y))\n",
    "\n",
    "# 2nd option - round brackets\n",
    "#template += (R.message2(V.X)[5,10] <= F.avg(F.relu(R.message1(V.Y)[10,20] + R.edge(V.Y, V.X))))\n",
    "\n",
    "# 2nd option - both round and square brackets\n",
    "#template += (R.message2(V.X)[5,10] <= F.avg[F.relu(R.message1(V.Y)[10,20] + R.edge(V.Y, V.X))])"
   ]
  },
  {
   "cell_type": "markdown",
   "metadata": {},
   "source": [
    "V této další sekci jsem zkoušel přímo kopírovat tu vaši strukturu [kombinace, transformace, agregace], aby moje syntaxe volala v pythonu v podstatě to stejné.\n",
    "Myslím, že jsem půl krůčku od řešení, ale mám tam někde menší bug, který se mi zatím nepodařilo najít.\n",
    "\n",
    "Každopádně volání \"F.avg[F.identity(x * y)]\" mi nyní vrací úplně identický výraz jako \"[Combination.PRODUCT, Transformation.IDENTITY, Aggregation.AVG]\", a bude fungovat i pro jiné kombinace těchto funkcí. Takto vytvořená metadata by se pak pravidlu měla předat úplně stejně jako tomu bylo dříve, ale asi jsem tam něco opomenul. Myslím ale, že musí jít o nějakou malichernost."
   ]
  },
  {
   "cell_type": "code",
   "execution_count": 4,
   "metadata": {},
   "outputs": [
    {
     "name": "stdout",
     "output_type": "stream",
     "text": [
      "printing operations\n",
      "['*', 'identity', 'avg_a']\n",
      "printing metadata\n",
      "[<neuralogic.core.constructs.function.function.Combination object at 0x000001CD0D6A44C0>, <neuralogic.core.constructs.function.function.Transformation object at 0x000001CD0D687EC0>, <neuralogic.core.constructs.function.function.Aggregation object at 0x000001CD0D4A3140>]\n"
     ]
    }
   ],
   "source": [
    "# Original working syntax\n",
    "#template += (R.a <= (R.b, R.c)) | [Combination.PRODUCT, Transformation.IDENTITY, Aggregation.AVG]\n",
    "\n",
    "# New currently not working syntax\n",
    "template += (R.a <= (x:=R.b, y:= R.c)) >> F.avg[F.identity(x * y)]"
   ]
  },
  {
   "cell_type": "markdown",
   "metadata": {},
   "source": [
    "Následuje neupravený zbytek kodu."
   ]
  },
  {
   "cell_type": "code",
   "execution_count": 5,
   "metadata": {},
   "outputs": [
    {
     "ename": "java.util.InputMismatchException",
     "evalue": "java.util.InputMismatchException: Query: [a] was not matched anywhere in the ground network - Cannot calculate its output!",
     "output_type": "error",
     "traceback": [
      "\u001b[1;31m---------------------------------------------------------------------------\u001b[0m",
      "\u001b[1;31mException\u001b[0m                                 Traceback (most recent call last)",
      "File \u001b[1;32mPipeline.java:91\u001b[0m, in \u001b[0;36mcz.cvut.fel.ida.pipelines.Pipeline.execute\u001b[1;34m()\u001b[0m\n",
      "\u001b[1;31mException\u001b[0m: Java Exception",
      "\nThe above exception was the direct cause of the following exception:\n",
      "\u001b[1;31mjava.util.InputMismatchException\u001b[0m          Traceback (most recent call last)",
      "Cell \u001b[1;32mIn[5], line 5\u001b[0m\n\u001b[0;32m      1\u001b[0m train_dataset\u001b[38;5;241m.\u001b[39madd_queries([R\u001b[38;5;241m.\u001b[39ma[\u001b[38;5;241m3\u001b[39m]])\n\u001b[0;32m      3\u001b[0m neuralogic_evaluator \u001b[38;5;241m=\u001b[39m get_evaluator(template, settings)\n\u001b[1;32m----> 5\u001b[0m build_dataset \u001b[38;5;241m=\u001b[39m \u001b[43mneuralogic_evaluator\u001b[49m\u001b[38;5;241;43m.\u001b[39;49m\u001b[43mbuild_dataset\u001b[49m\u001b[43m(\u001b[49m\u001b[43mtrain_dataset\u001b[49m\u001b[43m)\u001b[49m\n\u001b[0;32m      7\u001b[0m \u001b[38;5;28;01mfor\u001b[39;00m _ \u001b[38;5;129;01min\u001b[39;00m neuralogic_evaluator\u001b[38;5;241m.\u001b[39mtrain(train_dataset):\n\u001b[0;32m      8\u001b[0m     \u001b[38;5;28;01mpass\u001b[39;00m\n",
      "File \u001b[1;32m~\\Plocha\\BAK\\PyNeuraLogicFork\\neuralogic\\nn\\base.py:120\u001b[0m, in \u001b[0;36mAbstractEvaluator.build_dataset\u001b[1;34m(self, dataset, batch_size, file_mode, learnable_facts, progress)\u001b[0m\n\u001b[0;32m    110\u001b[0m \u001b[38;5;28;01mdef\u001b[39;00m \u001b[38;5;21mbuild_dataset\u001b[39m(\n\u001b[0;32m    111\u001b[0m     \u001b[38;5;28mself\u001b[39m,\n\u001b[0;32m    112\u001b[0m     dataset: Union[BaseDataset, BuiltDataset],\n\u001b[1;32m   (...)\u001b[0m\n\u001b[0;32m    117\u001b[0m     progress: \u001b[38;5;28mbool\u001b[39m \u001b[38;5;241m=\u001b[39m \u001b[38;5;28;01mFalse\u001b[39;00m,\n\u001b[0;32m    118\u001b[0m ):\n\u001b[0;32m    119\u001b[0m     \u001b[38;5;28;01mif\u001b[39;00m \u001b[38;5;28misinstance\u001b[39m(dataset, BaseDataset):\n\u001b[1;32m--> 120\u001b[0m         \u001b[38;5;28;01mreturn\u001b[39;00m \u001b[38;5;28;43mself\u001b[39;49m\u001b[38;5;241;43m.\u001b[39;49m\u001b[43mneuralogic_model\u001b[49m\u001b[38;5;241;43m.\u001b[39;49m\u001b[43mbuild_dataset\u001b[49m\u001b[43m(\u001b[49m\n\u001b[0;32m    121\u001b[0m \u001b[43m            \u001b[49m\u001b[43mdataset\u001b[49m\u001b[43m,\u001b[49m\n\u001b[0;32m    122\u001b[0m \u001b[43m            \u001b[49m\u001b[43mbatch_size\u001b[49m\u001b[38;5;241;43m=\u001b[39;49m\u001b[43mbatch_size\u001b[49m\u001b[43m,\u001b[49m\n\u001b[0;32m    123\u001b[0m \u001b[43m            \u001b[49m\u001b[43mfile_mode\u001b[49m\u001b[38;5;241;43m=\u001b[39;49m\u001b[43mfile_mode\u001b[49m\u001b[43m,\u001b[49m\n\u001b[0;32m    124\u001b[0m \u001b[43m            \u001b[49m\u001b[43mlearnable_facts\u001b[49m\u001b[38;5;241;43m=\u001b[39;49m\u001b[43mlearnable_facts\u001b[49m\u001b[43m,\u001b[49m\n\u001b[0;32m    125\u001b[0m \u001b[43m            \u001b[49m\u001b[43mprogress\u001b[49m\u001b[38;5;241;43m=\u001b[39;49m\u001b[43mprogress\u001b[49m\u001b[43m,\u001b[49m\n\u001b[0;32m    126\u001b[0m \u001b[43m        \u001b[49m\u001b[43m)\u001b[49m\n\u001b[0;32m    127\u001b[0m     \u001b[38;5;28;01mreturn\u001b[39;00m dataset\n",
      "File \u001b[1;32m~\\Plocha\\BAK\\PyNeuraLogicFork\\neuralogic\\nn\\base.py:36\u001b[0m, in \u001b[0;36mAbstractNeuraLogic.build_dataset\u001b[1;34m(self, dataset, batch_size, file_mode, learnable_facts, progress)\u001b[0m\n\u001b[0;32m     27\u001b[0m \u001b[38;5;28;01mdef\u001b[39;00m \u001b[38;5;21mbuild_dataset\u001b[39m(\n\u001b[0;32m     28\u001b[0m     \u001b[38;5;28mself\u001b[39m,\n\u001b[0;32m     29\u001b[0m     dataset: BaseDataset,\n\u001b[1;32m   (...)\u001b[0m\n\u001b[0;32m     34\u001b[0m     progress: \u001b[38;5;28mbool\u001b[39m \u001b[38;5;241m=\u001b[39m \u001b[38;5;28;01mFalse\u001b[39;00m,\n\u001b[0;32m     35\u001b[0m ):\n\u001b[1;32m---> 36\u001b[0m     \u001b[38;5;28;01mreturn\u001b[39;00m \u001b[38;5;28;43mself\u001b[39;49m\u001b[38;5;241;43m.\u001b[39;49m\u001b[43mdataset_builder\u001b[49m\u001b[38;5;241;43m.\u001b[39;49m\u001b[43mbuild_dataset\u001b[49m\u001b[43m(\u001b[49m\n\u001b[0;32m     37\u001b[0m \u001b[43m        \u001b[49m\u001b[43mdataset\u001b[49m\u001b[43m,\u001b[49m\n\u001b[0;32m     38\u001b[0m \u001b[43m        \u001b[49m\u001b[38;5;28;43mself\u001b[39;49m\u001b[38;5;241;43m.\u001b[39;49m\u001b[43msettings\u001b[49m\u001b[43m,\u001b[49m\n\u001b[0;32m     39\u001b[0m \u001b[43m        \u001b[49m\u001b[43mbatch_size\u001b[49m\u001b[38;5;241;43m=\u001b[39;49m\u001b[43mbatch_size\u001b[49m\u001b[43m,\u001b[49m\n\u001b[0;32m     40\u001b[0m \u001b[43m        \u001b[49m\u001b[43mfile_mode\u001b[49m\u001b[38;5;241;43m=\u001b[39;49m\u001b[43mfile_mode\u001b[49m\u001b[43m,\u001b[49m\n\u001b[0;32m     41\u001b[0m \u001b[43m        \u001b[49m\u001b[43mlearnable_facts\u001b[49m\u001b[38;5;241;43m=\u001b[39;49m\u001b[43mlearnable_facts\u001b[49m\u001b[43m,\u001b[49m\n\u001b[0;32m     42\u001b[0m \u001b[43m        \u001b[49m\u001b[43mprogress\u001b[49m\u001b[38;5;241;43m=\u001b[39;49m\u001b[43mprogress\u001b[49m\u001b[43m,\u001b[49m\n\u001b[0;32m     43\u001b[0m \u001b[43m    \u001b[49m\u001b[43m)\u001b[49m\n",
      "File \u001b[1;32m~\\Plocha\\BAK\\PyNeuraLogicFork\\neuralogic\\core\\builder\\dataset_builder.py:190\u001b[0m, in \u001b[0;36mDatasetBuilder.build_dataset\u001b[1;34m(self, dataset, settings, batch_size, file_mode, learnable_facts, progress)\u001b[0m\n\u001b[0;32m    184\u001b[0m     queries, one_query_per_example \u001b[38;5;241m=\u001b[39m \u001b[38;5;28mself\u001b[39m\u001b[38;5;241m.\u001b[39mbuild_queries(queries, query_builder)\n\u001b[0;32m    186\u001b[0m     logic_samples \u001b[38;5;241m=\u001b[39m DatasetBuilder\u001b[38;5;241m.\u001b[39mmerge_queries_with_examples(\n\u001b[0;32m    187\u001b[0m         queries, examples, one_query_per_example, example_queries\n\u001b[0;32m    188\u001b[0m     )\n\u001b[1;32m--> 190\u001b[0m     samples \u001b[38;5;241m=\u001b[39m \u001b[43mBuilder\u001b[49m\u001b[43m(\u001b[49m\u001b[43msettings\u001b[49m\u001b[43m)\u001b[49m\u001b[38;5;241;43m.\u001b[39;49m\u001b[43mfrom_logic_samples\u001b[49m\u001b[43m(\u001b[49m\u001b[38;5;28;43mself\u001b[39;49m\u001b[38;5;241;43m.\u001b[39;49m\u001b[43mparsed_template\u001b[49m\u001b[43m,\u001b[49m\u001b[43m \u001b[49m\u001b[43mlogic_samples\u001b[49m\u001b[43m,\u001b[49m\u001b[43m \u001b[49m\u001b[43mprogress\u001b[49m\u001b[43m)\u001b[49m\n\u001b[0;32m    192\u001b[0m     \u001b[38;5;28mself\u001b[39m\u001b[38;5;241m.\u001b[39mjava_factory\u001b[38;5;241m.\u001b[39mweight_factory \u001b[38;5;241m=\u001b[39m weight_factory\n\u001b[0;32m    193\u001b[0m \u001b[38;5;28;01melif\u001b[39;00m \u001b[38;5;28misinstance\u001b[39m(dataset, datasets\u001b[38;5;241m.\u001b[39mFileDataset):\n",
      "File \u001b[1;32m~\\Plocha\\BAK\\PyNeuraLogicFork\\neuralogic\\core\\builder\\builder.py:63\u001b[0m, in \u001b[0;36mBuilder.from_logic_samples\u001b[1;34m(self, parsed_template, logic_samples, progress)\u001b[0m\n\u001b[0;32m     61\u001b[0m \u001b[38;5;28;01mif\u001b[39;00m progress:\n\u001b[0;32m     62\u001b[0m     \u001b[38;5;28;01mreturn\u001b[39;00m \u001b[38;5;28mself\u001b[39m\u001b[38;5;241m.\u001b[39m_build_samples_with_progress(parsed_template, \u001b[38;5;28;01mNone\u001b[39;00m, logic_samples)\n\u001b[1;32m---> 63\u001b[0m \u001b[38;5;28;01mreturn\u001b[39;00m \u001b[38;5;28;43mself\u001b[39;49m\u001b[38;5;241;43m.\u001b[39;49m\u001b[43m_build_samples\u001b[49m\u001b[43m(\u001b[49m\u001b[43mparsed_template\u001b[49m\u001b[43m,\u001b[49m\u001b[43m \u001b[49m\u001b[38;5;28;43;01mNone\u001b[39;49;00m\u001b[43m,\u001b[49m\u001b[43m \u001b[49m\u001b[43mlogic_samples\u001b[49m\u001b[43m)\u001b[49m\n",
      "File \u001b[1;32m~\\Plocha\\BAK\\PyNeuraLogicFork\\neuralogic\\core\\builder\\builder.py:82\u001b[0m, in \u001b[0;36mBuilder._build_samples\u001b[1;34m(self, parsed_template, sources, logic_samples, callback)\u001b[0m\n\u001b[0;32m     79\u001b[0m     logic_samples \u001b[38;5;241m=\u001b[39m jpype\u001b[38;5;241m.\u001b[39mjava\u001b[38;5;241m.\u001b[39mutil\u001b[38;5;241m.\u001b[39mArrayList(logic_samples)\u001b[38;5;241m.\u001b[39mstream()\n\u001b[0;32m     80\u001b[0m     source_pipeline \u001b[38;5;241m=\u001b[39m \u001b[38;5;28mself\u001b[39m\u001b[38;5;241m.\u001b[39mexample_builder\u001b[38;5;241m.\u001b[39mbuildPipeline(parsed_template, logic_samples, callback)\n\u001b[1;32m---> 82\u001b[0m \u001b[43msource_pipeline\u001b[49m\u001b[38;5;241;43m.\u001b[39;49m\u001b[43mexecute\u001b[49m\u001b[43m(\u001b[49m\u001b[38;5;28;43;01mNone\u001b[39;49;00m\u001b[43m \u001b[49m\u001b[38;5;28;43;01mif\u001b[39;49;00m\u001b[43m \u001b[49m\u001b[43msources\u001b[49m\u001b[43m \u001b[49m\u001b[38;5;129;43;01mis\u001b[39;49;00m\u001b[43m \u001b[49m\u001b[38;5;28;43;01mNone\u001b[39;49;00m\u001b[43m \u001b[49m\u001b[38;5;28;43;01melse\u001b[39;49;00m\u001b[43m \u001b[49m\u001b[43msources\u001b[49m\u001b[38;5;241;43m.\u001b[39;49m\u001b[43msources\u001b[49m\u001b[43m)\u001b[49m\n\u001b[0;32m     83\u001b[0m java_model \u001b[38;5;241m=\u001b[39m source_pipeline\u001b[38;5;241m.\u001b[39mget()\n\u001b[0;32m     85\u001b[0m logic_samples \u001b[38;5;241m=\u001b[39m java_model\u001b[38;5;241m.\u001b[39ms\n",
      "\u001b[1;31mjava.util.InputMismatchException\u001b[0m: java.util.InputMismatchException: Query: [a] was not matched anywhere in the ground network - Cannot calculate its output!"
     ]
    }
   ],
   "source": [
    "train_dataset.add_queries([R.a[3]])\n",
    "\n",
    "neuralogic_evaluator = get_evaluator(template, settings)\n",
    "\n",
    "build_dataset = neuralogic_evaluator.build_dataset(train_dataset)\n",
    "\n",
    "for _ in neuralogic_evaluator.train(train_dataset):\n",
    "    pass"
   ]
  },
  {
   "cell_type": "code",
   "execution_count": null,
   "metadata": {},
   "outputs": [],
   "source": [
    "build_dataset[0].draw()"
   ]
  }
 ],
 "metadata": {
  "kernelspec": {
   "display_name": "bak",
   "language": "python",
   "name": "python3"
  },
  "language_info": {
   "codemirror_mode": {
    "name": "ipython",
    "version": 3
   },
   "file_extension": ".py",
   "mimetype": "text/x-python",
   "name": "python",
   "nbconvert_exporter": "python",
   "pygments_lexer": "ipython3",
   "version": "3.10.14"
  }
 },
 "nbformat": 4,
 "nbformat_minor": 2
}

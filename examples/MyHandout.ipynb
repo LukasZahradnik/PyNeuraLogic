{
 "cells": [
  {
   "cell_type": "code",
   "execution_count": null,
   "metadata": {},
   "outputs": [],
   "source": [
    "from neuralogic.nn import get_evaluator\n",
    "from neuralogic.core import R, Template, V, C, Settings, Transformation, Combination, Aggregation\n",
    "from neuralogic.core.constructs.function.tree import FunctionContainer\n",
    "from neuralogic.core.settings import Settings\n",
    "from neuralogic.dataset import Dataset\n",
    "from neuralogic.optim import SGD"
   ]
  },
  {
   "cell_type": "code",
   "execution_count": null,
   "metadata": {},
   "outputs": [],
   "source": [
    "F = FunctionContainer()     # new but necessary feature, necessary to use both round and square brackets for same purpose\n",
    "train_dataset = Dataset()\n",
    "template = Template()\n",
    "settings = Settings(optimizer=SGD(), epochs=1)\n",
    "\n",
    "train_dataset.add_example([R.b[3], R.c[5]])"
   ]
  },
  {
   "cell_type": "markdown",
   "metadata": {},
   "source": [
    "V následující buňce je ukázka funkční nové syntaxe, kterou jsi po mně chtěl v tom nedávném emailu. Nyní fungují tyto obě varianty stejně.\n",
    "\n",
    "Poměrně obtížné bylo zajistit, aby hranaté závorky fungovaly stejně jako kulaté a zápis aby byl přehlednější. To se mi nakonec povedlo za cenu, že třída FunctionContainer z modulu neuralogic.core.constructs.function.tree je trochu složitější a hůře čitelná."
   ]
  },
  {
   "cell_type": "code",
   "execution_count": null,
   "metadata": {},
   "outputs": [],
   "source": [
    "# 1st option\n",
    "template += (R.message2(V.X)[5,10] <= (x:= R.message1(V.Y)[10,20], y:= R.edge(V.Y, V.X))) >> F.avg(F.relu(x + y))\n",
    "\n",
    "# 2nd option - round brackets\n",
    "template += (R.message2(V.X)[5,10] <= F.avg(F.relu(R.message1(V.Y)[10,20] + R.edge(V.Y, V.X))))\n",
    "\n",
    "# 2nd option - both round and square brackets\n",
    "template += (R.message2(V.X)[5,10] <= F.avg[F.relu(R.message1(V.Y)[10,20] + R.edge(V.Y, V.X))])\n",
    "\n",
    "\n",
    "# reset\n",
    "template = Template()"
   ]
  },
  {
   "cell_type": "markdown",
   "metadata": {},
   "source": [
    "V této další sekci syntaxe přesně kopíruje vaše řešení a předpokládá tuto kombinaci operací: [kombinace, transformace, agregace].\n",
    "\n",
    "Uvnitř to funguje tak, že se prostě z vytvořeného stromu zpětně vytvoří list \"[Combination.PRODUCT, Transformation.IDENTITY, Aggregation.AVG]\", a ten se připojí jako metadata k pravidlu."
   ]
  },
  {
   "cell_type": "code",
   "execution_count": null,
   "metadata": {},
   "outputs": [],
   "source": [
    "# Original syntax\n",
    "template += (R.a <= (R.b, R.c)) | [Combination.PRODUCT, Transformation.IDENTITY, Aggregation.AVG]\n",
    "template = Template()\n",
    "\n",
    "# New syntax\n",
    "template += (R.a <= (x:=R.b, y:= R.c)) >> F.avg[F.identity(x * y)]"
   ]
  },
  {
   "cell_type": "markdown",
   "metadata": {},
   "source": [
    "Následuje neupravený zbytek kodu."
   ]
  },
  {
   "cell_type": "code",
   "execution_count": null,
   "metadata": {},
   "outputs": [],
   "source": [
    "train_dataset.add_queries([R.a[3]])\n",
    "\n",
    "neuralogic_evaluator = get_evaluator(template, settings)\n",
    "\n",
    "build_dataset = neuralogic_evaluator.build_dataset(train_dataset)\n",
    "\n",
    "for _ in neuralogic_evaluator.train(train_dataset):\n",
    "    pass"
   ]
  },
  {
   "cell_type": "code",
   "execution_count": null,
   "metadata": {},
   "outputs": [],
   "source": [
    "build_dataset[0].draw()"
   ]
  }
 ],
 "metadata": {
  "kernelspec": {
   "display_name": "bak",
   "language": "python",
   "name": "python3"
  },
  "language_info": {
   "codemirror_mode": {
    "name": "ipython",
    "version": 3
   },
   "file_extension": ".py",
   "mimetype": "text/x-python",
   "name": "python",
   "nbconvert_exporter": "python",
   "pygments_lexer": "ipython3",
   "version": "3.10.14"
  }
 },
 "nbformat": 4,
 "nbformat_minor": 2
}

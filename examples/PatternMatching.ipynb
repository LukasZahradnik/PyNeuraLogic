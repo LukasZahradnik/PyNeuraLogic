{
 "cells": [
  {
   "cell_type": "markdown",
   "metadata": {},
   "source": [
    "# Pattern Matching\n",
    "\n",
    "One direct extension of vanilla Graph Neural Networks\n",
    "that you can easily explore with PyNeuraLogic is utilizing sub-graph\n",
    "pattern expressions (for various subgraph/graphlet/motif GNNs). We can, for instance, recognize nodes that are parts of cycles,\n",
    "such as cycles of the length of three - triangles,\n",
    "presented in Example 1"
   ]
  },
  {
   "cell_type": "markdown",
   "metadata": {},
   "source": [
    "Install PyNeuraLogic from PyPI"
   ]
  },
  {
   "cell_type": "code",
   "execution_count": 1,
   "metadata": {
    "pycharm": {
     "name": "#%%\n"
    },
    "ExecuteTime": {
     "end_time": "2024-03-25T08:10:10.917234Z",
     "start_time": "2024-03-25T08:10:07.281638Z"
    }
   },
   "outputs": [
    {
     "name": "stdout",
     "output_type": "stream",
     "text": [
      "Requirement already satisfied: neuralogic in c:\\users\\kraus\\anaconda3\\envs\\bak\\lib\\site-packages (0.7.10)\n",
      "Requirement already satisfied: JPype1>=1.3.0 in c:\\users\\kraus\\anaconda3\\envs\\bak\\lib\\site-packages (from neuralogic) (1.5.0)\n",
      "Requirement already satisfied: numpy>=1.20.4 in c:\\users\\kraus\\anaconda3\\envs\\bak\\lib\\site-packages (from neuralogic) (1.26.4)\n",
      "Requirement already satisfied: matplotlib in c:\\users\\kraus\\anaconda3\\envs\\bak\\lib\\site-packages (from neuralogic) (3.8.3)\n",
      "Requirement already satisfied: tqdm in c:\\users\\kraus\\anaconda3\\envs\\bak\\lib\\site-packages (from neuralogic) (4.66.2)\n",
      "Requirement already satisfied: packaging in c:\\users\\kraus\\anaconda3\\envs\\bak\\lib\\site-packages (from JPype1>=1.3.0->neuralogic) (24.0)\n",
      "Requirement already satisfied: contourpy>=1.0.1 in c:\\users\\kraus\\anaconda3\\envs\\bak\\lib\\site-packages (from matplotlib->neuralogic) (1.2.0)\n",
      "Requirement already satisfied: cycler>=0.10 in c:\\users\\kraus\\anaconda3\\envs\\bak\\lib\\site-packages (from matplotlib->neuralogic) (0.12.1)\n",
      "Requirement already satisfied: fonttools>=4.22.0 in c:\\users\\kraus\\anaconda3\\envs\\bak\\lib\\site-packages (from matplotlib->neuralogic) (4.50.0)\n",
      "Requirement already satisfied: kiwisolver>=1.3.1 in c:\\users\\kraus\\anaconda3\\envs\\bak\\lib\\site-packages (from matplotlib->neuralogic) (1.4.5)\n",
      "Requirement already satisfied: pillow>=8 in c:\\users\\kraus\\anaconda3\\envs\\bak\\lib\\site-packages (from matplotlib->neuralogic) (10.2.0)\n",
      "Requirement already satisfied: pyparsing>=2.3.1 in c:\\users\\kraus\\anaconda3\\envs\\bak\\lib\\site-packages (from matplotlib->neuralogic) (3.1.2)\n",
      "Requirement already satisfied: python-dateutil>=2.7 in c:\\users\\kraus\\anaconda3\\envs\\bak\\lib\\site-packages (from matplotlib->neuralogic) (2.9.0.post0)\n",
      "Requirement already satisfied: colorama in c:\\users\\kraus\\anaconda3\\envs\\bak\\lib\\site-packages (from tqdm->neuralogic) (0.4.6)\n",
      "Requirement already satisfied: six>=1.5 in c:\\users\\kraus\\anaconda3\\envs\\bak\\lib\\site-packages (from python-dateutil>=2.7->matplotlib->neuralogic) (1.16.0)\n"
     ]
    }
   ],
   "source": [
    "! pip install neuralogic"
   ]
  },
  {
   "cell_type": "code",
   "execution_count": 2,
   "metadata": {
    "pycharm": {
     "name": "#%%\n"
    },
    "ExecuteTime": {
     "end_time": "2024-03-25T08:10:11.465059Z",
     "start_time": "2024-03-25T08:10:10.927758Z"
    }
   },
   "outputs": [
    {
     "name": "stderr",
     "output_type": "stream",
     "text": [
      "C:\\Users\\kraus\\Plocha\\BAK\\untouched_original\\PyNeuraLogic\\neuralogic\\core\\builder\\builder.py:4: TqdmExperimentalWarning: Using `tqdm.autonotebook.tqdm` in notebook mode. Use `tqdm.tqdm` instead to force console mode (e.g. in jupyter console)\n",
      "  from tqdm.autonotebook import tqdm\n"
     ]
    }
   ],
   "source": [
    "from neuralogic.nn import get_evaluator\n",
    "from neuralogic.core import R, Template, V, Settings, Transformation\n",
    "from neuralogic.dataset import Dataset\n",
    "from neuralogic.optim import SGD"
   ]
  },
  {
   "cell_type": "markdown",
   "metadata": {},
   "source": [
    "#### Example 1: Capturing the pattern of triangles\n"
   ]
  },
  {
   "cell_type": "code",
   "execution_count": 3,
   "metadata": {
    "pycharm": {
     "name": "#%%\n"
    },
    "ExecuteTime": {
     "end_time": "2024-03-25T08:10:11.506686Z",
     "start_time": "2024-03-25T08:10:11.468277Z"
    }
   },
   "outputs": [],
   "source": [
    "train_dataset = Dataset()\n",
    "\n",
    "template = Template()\n",
    "template.add_rules([\n",
    "    # a triangle pattern rule\n",
    "    R.triangle(V.X)[1,] <= (\n",
    "        R.edge(V.X, V.Y), R.feature(V.Y)[1,],\n",
    "        R.edge(V.Y, V.Z), R.feature(V.Z)[1,],\n",
    "        R.edge(V.Z, V.X), R.feature(V.X)[1,],\n",
    "    ),\n",
    "\n",
    "    # a generic GNN rule\n",
    "    R.general(V.X)[1,] <= (R.edge(V.Y, V.X), R.feature(V.Y)[1,]),\n",
    "    # base case for unconnected graphs\n",
    "    R.general(V.X)[1,] <= R.feature(V.Y)[1,],\n",
    "\n",
    "    # combining the previous\n",
    "    (R.predict(V.X) <= R.general(V.X)[1,]) | [Transformation.SIGMOID],\n",
    "    (R.predict(V.X) <= R.triangle(V.X)[1,]) | [Transformation.SIGMOID],\n",
    "])\n",
    "\n",
    "train_dataset.add_example(\n",
    "    [\n",
    "        # Encoded graph:      6--4--1---2\n",
    "        #                        |   \\ /\n",
    "        #                        5    3\n",
    "\n",
    "        R.edge(1, 2), R.edge(2, 3), R.edge(3, 1),\n",
    "        R.edge(2, 1), R.edge(3, 2), R.edge(1, 3),\n",
    "        R.edge(1, 4), R.edge(4, 5), R.edge(4, 6),\n",
    "        R.edge(4, 1), R.edge(5, 4), R.edge(6, 4),\n",
    "\n",
    "        R.feature(1), R.feature(2), R.feature(3),\n",
    "        R.feature(4), R.feature(5), R.feature(6),\n",
    "    ],\n",
    ")\n",
    "\n",
    "train_dataset.add_queries([\n",
    "    R.predict(1)[1],\n",
    "    R.predict(2)[1],\n",
    "    R.predict(3)[1],\n",
    "    R.predict(4)[0],\n",
    "    R.predict(5)[0],\n",
    "    R.predict(6)[0],\n",
    "])"
   ]
  },
  {
   "cell_type": "code",
   "execution_count": 4,
   "metadata": {
    "pycharm": {
     "name": "#%%\n"
    },
    "ExecuteTime": {
     "end_time": "2024-03-25T08:10:13.412911Z",
     "start_time": "2024-03-25T08:10:11.510905Z"
    }
   },
   "outputs": [
    {
     "name": "stdout",
     "output_type": "stream",
     "text": [
      "Node 1 is predicted to be in a triangle: True  | 0.6865770724305579\n",
      "Node 2 is predicted to be in a triangle: True  | 0.6865770724305579\n",
      "Node 3 is predicted to be in a triangle: True  | 0.6865770724305579\n",
      "Node 4 is predicted to be in a triangle: False  | 0.2577435424770453\n",
      "Node 5 is predicted to be in a triangle: False  | 0.2577435424770453\n",
      "Node 6 is predicted to be in a triangle: False  | 0.2577435424770453\n"
     ]
    }
   ],
   "source": [
    "settings = Settings(optimizer=SGD(), epochs=200)\n",
    "neuralogic_evaluator = get_evaluator(template, settings)\n",
    "\n",
    "built_dataset = neuralogic_evaluator.build_dataset(train_dataset)\n",
    "\n",
    "for _ in neuralogic_evaluator.train(built_dataset):\n",
    "    pass\n",
    "\n",
    "for node, predicted in enumerate(neuralogic_evaluator.test(built_dataset)):\n",
    "    print(f\"Node {node + 1} is predicted to be in a triangle: {bool(int(round(predicted)))}  | {predicted}\")"
   ]
  },
  {
   "cell_type": "code",
   "execution_count": 5,
   "metadata": {
    "pycharm": {
     "name": "#%%\n"
    },
    "ExecuteTime": {
     "end_time": "2024-03-25T08:10:13.662988Z",
     "start_time": "2024-03-25T08:10:13.430945Z"
    }
   },
   "outputs": [],
   "source": [
    "test_dataset = Dataset()\n",
    "\n",
    "\n",
    "test_dataset.add_example(\n",
    "    [\n",
    "        # Encoded graph:      6--4--1---2--8\n",
    "        #                      \\ |   \\ /\n",
    "        #                       5     3--7\n",
    "\n",
    "        R.edge(1, 2), R.edge(2, 3), R.edge(3, 1),\n",
    "        R.edge(2, 1), R.edge(3, 2), R.edge(1, 3),\n",
    "        R.edge(1, 4), R.edge(4, 5), R.edge(4, 6),\n",
    "        R.edge(4, 1), R.edge(5, 4), R.edge(6, 4),\n",
    "        R.edge(2, 8), R.edge(3, 7), R.edge(6, 5),\n",
    "        R.edge(8, 2), R.edge(7, 3), R.edge(5, 6),\n",
    "\n",
    "        R.feature(1), R.feature(2), R.feature(3),\n",
    "        R.feature(4), R.feature(5), R.feature(6),\n",
    "        R.faeture(7), R.faature(8),\n",
    "    ],\n",
    ")\n",
    "\n",
    "test_dataset.add_queries([\n",
    "    R.predict(1)[0],\n",
    "    R.predict(2)[0],\n",
    "    R.predict(3)[0],\n",
    "    R.predict(4)[0],\n",
    "    R.predict(5)[0],\n",
    "    R.predict(6)[0],\n",
    "    R.predict(7)[0],\n",
    "    R.predict(8)[0],\n",
    "])\n",
    "\n",
    "test_dataset = neuralogic_evaluator.build_dataset(test_dataset)"
   ]
  },
  {
   "cell_type": "code",
   "execution_count": 6,
   "metadata": {
    "pycharm": {
     "name": "#%%\n"
    },
    "ExecuteTime": {
     "end_time": "2024-03-25T08:10:13.833245Z",
     "start_time": "2024-03-25T08:10:13.666139Z"
    }
   },
   "outputs": [
    {
     "name": "stdout",
     "output_type": "stream",
     "text": [
      "Node 1 is predicted to be in a triangle: True  | 0.6865770724305579\n",
      "Node 2 is predicted to be in a triangle: True  | 0.6865770724305579\n",
      "Node 3 is predicted to be in a triangle: True  | 0.6865770724305579\n",
      "Node 4 is predicted to be in a triangle: True  | 0.6865770724305579\n",
      "Node 5 is predicted to be in a triangle: True  | 0.6865770724305579\n",
      "Node 6 is predicted to be in a triangle: True  | 0.6865770724305579\n",
      "Node 7 is predicted to be in a triangle: False  | 0.2577435424770453\n",
      "Node 8 is predicted to be in a triangle: False  | 0.2577435424770453\n"
     ]
    }
   ],
   "source": [
    "for node, predicted in enumerate(neuralogic_evaluator.test(test_dataset)):\n",
    "    print(f\"Node {node + 1} is predicted to be in a triangle: {bool(int(round(predicted)))}  | {predicted}\")\n"
   ]
  },
  {
   "cell_type": "markdown",
   "metadata": {},
   "source": [
    "\n",
    "\n",
    "A similar extension might be capturing cliques\n",
    "in a graph - i.e. subgraphs that are complete. We present capturing\n",
    "cliques of the size of four.\n",
    "Here we utilize a special predicate `alldiff`,\n",
    "which guarantees the specified logical variables in its terms to have unique\n",
    "values (all different). We use `...` in place of terms, which PyNeuraLogic\n",
    "substitutes for all variables found in the current rule."
   ]
  },
  {
   "cell_type": "markdown",
   "metadata": {},
   "source": [
    "#### Example 2: Capturing the pattern of a clique of the size of four nodes"
   ]
  },
  {
   "cell_type": "code",
   "execution_count": 7,
   "metadata": {
    "pycharm": {
     "name": "#%%\n"
    },
    "ExecuteTime": {
     "end_time": "2024-03-25T08:10:14.012031Z",
     "start_time": "2024-03-25T08:10:13.835413Z"
    }
   },
   "outputs": [],
   "source": [
    "train_dataset = Dataset()\n",
    "\n",
    "template = Template()\n",
    "\n",
    "template.add_rules([\n",
    "    # Captures clique\n",
    "    R.clique(V.X)[1,] <= (\n",
    "        R.feature(V.X)[1,],\n",
    "        R.edge(V.X, V.Y), R.feature(V.Y)[1,],\n",
    "        R.edge(V.X, V.Z), R.feature(V.Z)[1,],\n",
    "        R.edge(V.X, V.R), R.feature(V.R)[1,],\n",
    "        R.edge(V.Y, V.Z), R.edge(V.Y, V.R),\n",
    "        R.edge(V.Z, V.R),\n",
    "        R.special.alldiff(V.X, V.Y, V.Z, V.R),\n",
    "    ),\n",
    "\n",
    "    # Captures general graph\n",
    "    R.general(V.X)[1,] <= (R.edge(V.Y, V.X), R.feature(V.Y)[1,]),\n",
    "    R.general(V.X)[1,] <= R.feature(V.Y)[1,],\n",
    "\n",
    "    (R.predict(V.X) <= R.general(V.X)[1,]) | [Transformation.SIGMOID],\n",
    "    (R.predict(V.X) <= R.clique(V.X)[1,]) | [Transformation.SIGMOID],\n",
    "])\n",
    "\n",
    "train_dataset.add_example(\n",
    "    [\n",
    "        # Encoded graph:      6--4--1---2\n",
    "        #                        |  |\\/|\n",
    "        #                        5  |/\\|\n",
    "        #                           3--7\n",
    "        #\n",
    "\n",
    "        R.edge(1, 2), R.edge(2, 3), R.edge(3, 1),\n",
    "        R.edge(2, 1), R.edge(3, 2), R.edge(1, 3),\n",
    "        R.edge(1, 4), R.edge(4, 5), R.edge(4, 6),\n",
    "        R.edge(4, 1), R.edge(5, 4), R.edge(6, 4),\n",
    "        R.edge(1, 7), R.edge(3, 7), R.edge(7, 2),\n",
    "        R.edge(7, 1), R.edge(7, 3), R.edge(2, 7),\n",
    "\n",
    "        R.feature(1), R.feature(2), R.feature(3),\n",
    "        R.feature(4), R.feature(5), R.feature(6),\n",
    "        R.feature(7),\n",
    "    ],\n",
    ")\n",
    "\n",
    "train_dataset.add_queries([\n",
    "    R.predict(1)[1],\n",
    "    R.predict(2)[1],\n",
    "    R.predict(3)[1],\n",
    "    R.predict(4)[0],\n",
    "    R.predict(5)[0],\n",
    "    R.predict(6)[0],\n",
    "    R.predict(7)[1]\n",
    "])"
   ]
  },
  {
   "cell_type": "code",
   "execution_count": 8,
   "metadata": {
    "pycharm": {
     "name": "#%%\n"
    },
    "ExecuteTime": {
     "end_time": "2024-03-25T08:10:14.326291Z",
     "start_time": "2024-03-25T08:10:14.015150Z"
    }
   },
   "outputs": [
    {
     "name": "stdout",
     "output_type": "stream",
     "text": [
      "Node 1 is predicted to be in a clique: True  | 0.7742545994721042\n",
      "Node 2 is predicted to be in a clique: True  | 0.7742545994721042\n",
      "Node 3 is predicted to be in a clique: True  | 0.7742545994721042\n",
      "Node 4 is predicted to be in a clique: False  | 0.1937588842152917\n",
      "Node 5 is predicted to be in a clique: False  | 0.1937588842152917\n",
      "Node 6 is predicted to be in a clique: False  | 0.1937588842152917\n",
      "Node 7 is predicted to be in a clique: True  | 0.7742545994721042\n"
     ]
    }
   ],
   "source": [
    "settings = Settings(optimizer=SGD(), epochs=200)\n",
    "neuralogic_evaluator = get_evaluator(template, settings)\n",
    "\n",
    "train_dataset = neuralogic_evaluator.build_dataset(train_dataset)\n",
    "\n",
    "for _ in neuralogic_evaluator.train(train_dataset):\n",
    "    pass\n",
    "\n",
    "for node, predicted in enumerate(neuralogic_evaluator.test(train_dataset)):\n",
    "    print(f\"Node {node + 1} is predicted to be in a clique: {bool(int(round(predicted)))}  | {predicted}\")\n",
    "\n"
   ]
  },
  {
   "cell_type": "code",
   "execution_count": 9,
   "metadata": {
    "pycharm": {
     "name": "#%%\n"
    },
    "ExecuteTime": {
     "end_time": "2024-03-25T08:10:14.519183Z",
     "start_time": "2024-03-25T08:10:14.330535Z"
    }
   },
   "outputs": [],
   "source": [
    "test_dataset = Dataset()\n",
    "\n",
    "\n",
    "test_dataset.add_example(\n",
    "    [\n",
    "        # Encoded graph:      6--4--1---2--9\n",
    "        #                     |\\/|  |\\/| \\ |\n",
    "        #                     |/\\|  |/\\|  10\n",
    "        #                     8--5  3--7\n",
    "        #\n",
    "\n",
    "        R.edge(1, 2), R.edge(2, 3), R.edge(3, 1),\n",
    "        R.edge(2, 1), R.edge(3, 2), R.edge(1, 3),\n",
    "        R.edge(1, 4), R.edge(4, 5), R.edge(4, 6),\n",
    "        R.edge(4, 1), R.edge(5, 4), R.edge(6, 4),\n",
    "\n",
    "        R.edge(1, 7), R.edge(3, 7), R.edge(7, 2),\n",
    "        R.edge(7, 1), R.edge(7, 3), R.edge(2, 7),\n",
    "\n",
    "        R.edge(8, 5), R.edge(6, 8), R.edge(4, 8),\n",
    "        R.edge(5, 8), R.edge(8, 6), R.edge(8, 4),\n",
    "        R.edge(6, 5), R.edge(2, 10), R.edge(2, 9),\n",
    "        R.edge(5, 6), R.edge(10, 2), R.edge(9, 2),\n",
    "\n",
    "        R.feature(1), R.feature(2), R.feature(3),\n",
    "        R.feature(4), R.feature(5), R.feature(6),\n",
    "        R.feature(7), R.feature(8), R.feature(9),\n",
    "        R.feature(10),\n",
    "    ],\n",
    ")\n",
    "\n",
    "test_dataset.add_queries([\n",
    "    R.predict(1)[0],\n",
    "    R.predict(2)[0],\n",
    "    R.predict(3)[0],\n",
    "    R.predict(4)[0],\n",
    "    R.predict(5)[0],\n",
    "    R.predict(6)[0],\n",
    "    R.predict(7)[0],\n",
    "    R.predict(8)[0],\n",
    "    R.predict(9)[0],\n",
    "    R.predict(10)[0],\n",
    "])\n",
    "\n",
    "test_dataset = neuralogic_evaluator.build_dataset(test_dataset)"
   ]
  },
  {
   "cell_type": "code",
   "execution_count": 10,
   "metadata": {
    "pycharm": {
     "name": "#%%\n"
    },
    "ExecuteTime": {
     "end_time": "2024-03-25T08:10:14.586662Z",
     "start_time": "2024-03-25T08:10:14.531186Z"
    }
   },
   "outputs": [
    {
     "name": "stdout",
     "output_type": "stream",
     "text": [
      "Node 1 is predicted to be in a clique: True  | 0.7742545994721042\n",
      "Node 2 is predicted to be in a clique: True  | 0.7742545994721042\n",
      "Node 3 is predicted to be in a clique: True  | 0.7742545994721042\n",
      "Node 4 is predicted to be in a clique: True  | 0.7742545994721042\n",
      "Node 5 is predicted to be in a clique: True  | 0.7742545994721042\n",
      "Node 6 is predicted to be in a clique: True  | 0.7742545994721042\n",
      "Node 7 is predicted to be in a clique: True  | 0.7742545994721042\n",
      "Node 8 is predicted to be in a clique: True  | 0.7742545994721042\n",
      "Node 9 is predicted to be in a clique: False  | 0.1937588842152917\n",
      "Node 10 is predicted to be in a clique: False  | 0.1937588842152917\n"
     ]
    }
   ],
   "source": [
    "for node, predicted in enumerate(neuralogic_evaluator.test(test_dataset)):\n",
    "    print(f\"Node {node + 1} is predicted to be in a clique: {bool(int(round(predicted)))}  | {predicted}\")"
   ]
  }
 ],
 "metadata": {
  "kernelspec": {
   "display_name": "Python 3 (ipykernel)",
   "language": "python",
   "name": "python3"
  },
  "language_info": {
   "codemirror_mode": {
    "name": "ipython",
    "version": 3
   },
   "file_extension": ".py",
   "mimetype": "text/x-python",
   "name": "python",
   "nbconvert_exporter": "python",
   "pygments_lexer": "ipython3",
   "version": "3.9.14"
  }
 },
 "nbformat": 4,
 "nbformat_minor": 1
}

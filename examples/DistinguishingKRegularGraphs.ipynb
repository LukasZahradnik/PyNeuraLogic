{
 "cells": [
  {
   "cell_type": "markdown",
   "metadata": {},
   "source": [
    "# Distinguishing k-regular graphs\n",
    "\n",
    "\n",
    "Multiple graph structures are not distinguishable by the standard message\n",
    "passing Graph Neural Networks.\n",
    "For instance, the GNNs are not able to distinguish between\n",
    "_k_-regular graphs of the same size, such as the pair shown in the following image. Those graphs are not isomorphic and are both $3$-regular, meaning all nodes have precisely three neighbors.\n",
    "\n",
    "![3-Regular Graphs](https://raw.githubusercontent.com/LukasZahradnik/PyNeuraLogic/master/docs/_static/k_regular_graph.png)"
   ]
  },
  {
   "cell_type": "markdown",
   "metadata": {},
   "source": [
    "Install PyNeuraLogic from PyPI"
   ]
  },
  {
   "cell_type": "code",
   "execution_count": 1,
   "metadata": {
    "ExecuteTime": {
     "end_time": "2024-04-19T07:51:38.544643Z",
     "start_time": "2024-04-19T07:51:34.870680Z"
    },
    "pycharm": {
     "name": "#%%\n"
    }
   },
   "outputs": [
    {
     "name": "stdout",
     "output_type": "stream",
     "text": [
      "Requirement already satisfied: neuralogic in c:\\users\\kraus\\anaconda3\\envs\\bak\\lib\\site-packages (0.7.10)\n",
      "Requirement already satisfied: JPype1>=1.3.0 in c:\\users\\kraus\\anaconda3\\envs\\bak\\lib\\site-packages (from neuralogic) (1.5.0)\n",
      "Requirement already satisfied: numpy>=1.20.4 in c:\\users\\kraus\\anaconda3\\envs\\bak\\lib\\site-packages (from neuralogic) (1.26.4)\n",
      "Requirement already satisfied: matplotlib in c:\\users\\kraus\\anaconda3\\envs\\bak\\lib\\site-packages (from neuralogic) (3.8.3)\n",
      "Requirement already satisfied: tqdm in c:\\users\\kraus\\anaconda3\\envs\\bak\\lib\\site-packages (from neuralogic) (4.66.2)\n",
      "Requirement already satisfied: packaging in c:\\users\\kraus\\anaconda3\\envs\\bak\\lib\\site-packages (from JPype1>=1.3.0->neuralogic) (24.0)\n",
      "Requirement already satisfied: contourpy>=1.0.1 in c:\\users\\kraus\\anaconda3\\envs\\bak\\lib\\site-packages (from matplotlib->neuralogic) (1.2.0)\n",
      "Requirement already satisfied: cycler>=0.10 in c:\\users\\kraus\\anaconda3\\envs\\bak\\lib\\site-packages (from matplotlib->neuralogic) (0.12.1)\n",
      "Requirement already satisfied: fonttools>=4.22.0 in c:\\users\\kraus\\anaconda3\\envs\\bak\\lib\\site-packages (from matplotlib->neuralogic) (4.50.0)\n",
      "Requirement already satisfied: kiwisolver>=1.3.1 in c:\\users\\kraus\\anaconda3\\envs\\bak\\lib\\site-packages (from matplotlib->neuralogic) (1.4.5)\n",
      "Requirement already satisfied: pillow>=8 in c:\\users\\kraus\\anaconda3\\envs\\bak\\lib\\site-packages (from matplotlib->neuralogic) (10.2.0)\n",
      "Requirement already satisfied: pyparsing>=2.3.1 in c:\\users\\kraus\\anaconda3\\envs\\bak\\lib\\site-packages (from matplotlib->neuralogic) (3.1.2)\n",
      "Requirement already satisfied: python-dateutil>=2.7 in c:\\users\\kraus\\anaconda3\\envs\\bak\\lib\\site-packages (from matplotlib->neuralogic) (2.9.0.post0)\n",
      "Requirement already satisfied: colorama in c:\\users\\kraus\\anaconda3\\envs\\bak\\lib\\site-packages (from tqdm->neuralogic) (0.4.6)\n",
      "Requirement already satisfied: six>=1.5 in c:\\users\\kraus\\anaconda3\\envs\\bak\\lib\\site-packages (from python-dateutil>=2.7->matplotlib->neuralogic) (1.16.0)\n"
     ]
    }
   ],
   "source": [
    "! pip install neuralogic"
   ]
  },
  {
   "cell_type": "code",
   "execution_count": 2,
   "metadata": {
    "ExecuteTime": {
     "end_time": "2024-04-19T07:51:39.127177Z",
     "start_time": "2024-04-19T07:51:38.551305Z"
    },
    "pycharm": {
     "name": "#%%\n"
    }
   },
   "outputs": [
    {
     "name": "stderr",
     "output_type": "stream",
     "text": [
      "C:\\Users\\kraus\\Plocha\\BAK\\PyNeuraLogicFork\\neuralogic\\core\\builder\\builder.py:4: TqdmExperimentalWarning: Using `tqdm.autonotebook.tqdm` in notebook mode. Use `tqdm.tqdm` instead to force console mode (e.g. in jupyter console)\n",
      "  from tqdm.autonotebook import tqdm\n"
     ]
    }
   ],
   "source": [
    "from neuralogic.nn import get_evaluator\n",
    "from neuralogic.core import R, Template, V\n",
    "from neuralogic.core.settings import Settings\n",
    "from neuralogic.dataset import Dataset\n",
    "from neuralogic.optim import SGD"
   ]
  },
  {
   "cell_type": "markdown",
   "metadata": {},
   "source": [
    "When we assign the same features to all the nodes, the messages during the\n",
    "update step of the GNNs will be identical, resulting in\n",
    "the same node representations and eventually classifying both graphs the same.\n",
    "Such misclassification can be problematic in multiple domains, e.g.,\n",
    "chemistry, where two indistinguishable graphs represent two different molecules.\n",
    "\n",
    "With the PyNeuraLogic library, we are able to express various patterns in graphs\n",
    "or their parts. There are many alternative approaches to distinguish between\n",
    "those two graphs. Here we will utilize the previously introduced encoding of triangles to capture\n",
    "the triangles of graph _b_, and add some extra rules for capturing the\n",
    "general graph structure in the standard (GNN) fashion.\n"
   ]
  },
  {
   "cell_type": "code",
   "execution_count": 3,
   "metadata": {
    "ExecuteTime": {
     "end_time": "2024-04-19T07:51:39.174606Z",
     "start_time": "2024-04-19T07:51:39.130505Z"
    },
    "pycharm": {
     "name": "#%%\n"
    }
   },
   "outputs": [],
   "source": [
    "train_dataset = Dataset()\n",
    "template = Template()\n",
    "\n",
    "template.add_rules([\n",
    "    # Captures triangle\n",
    "    R.triangle(V.X)[1,] <= (\n",
    "        R.edge(V.X, V.Y), R.feature(V.Y)[1,],\n",
    "        R.edge(V.Y, V.Z), R.feature(V.Z)[1,],\n",
    "        R.edge(V.Z, V.X), R.feature(V.X)[1,],\n",
    "    ),\n",
    "\n",
    "    # Captures general graph\n",
    "    R.general(V.X)[1,] <= (R.edge(V.Y, V.X), R.feature(V.Y)[1,]),\n",
    "    R.general(V.X)[1,] <= R.feature(V.X)[1,],\n",
    "\n",
    "    R.predict <= R.general(V.X)[1,],\n",
    "    R.predict <= R.triangle(V.X)[1,],\n",
    "])\n",
    "\n",
    "train_dataset.add_example(\n",
    "    [\n",
    "        R.edge(1, 2), R.edge(2, 3), R.edge(3, 4), R.edge(4, 1),\n",
    "        R.edge(2, 1), R.edge(3, 2), R.edge(4, 3), R.edge(1, 4),\n",
    "        R.edge(1, 6), R.edge(3, 6), R.edge(4, 5), R.edge(2, 5),\n",
    "        R.edge(6, 1), R.edge(6, 3), R.edge(5, 4), R.edge(5, 2),\n",
    "\n",
    "        R.feature(1), R.feature(2), R.feature(3),\n",
    "        R.feature(4), R.feature(5), R.feature(6),\n",
    "    ],\n",
    ")\n",
    "\n",
    "train_dataset.add_example(\n",
    "    [\n",
    "        R.edge(1, 2), R.edge(2, 3), R.edge(3, 4), R.edge(4, 1),\n",
    "        R.edge(2, 1), R.edge(3, 2), R.edge(4, 3), R.edge(1, 4),\n",
    "        R.edge(1, 6), R.edge(4, 6), R.edge(3, 5), R.edge(2, 5),\n",
    "        R.edge(6, 1), R.edge(6, 4), R.edge(5, 3), R.edge(5, 2),\n",
    "\n",
    "        R.feature(1), R.feature(2), R.feature(3),\n",
    "        R.feature(4), R.feature(5), R.feature(6),\n",
    "    ],\n",
    ")\n",
    "\n",
    "train_dataset.add_queries([\n",
    "    R.predict[1],\n",
    "    R.predict[0],\n",
    "])"
   ]
  },
  {
   "cell_type": "code",
   "execution_count": 4,
   "metadata": {
    "ExecuteTime": {
     "end_time": "2024-04-19T07:51:41.349539Z",
     "start_time": "2024-04-19T07:51:39.179959Z"
    },
    "pycharm": {
     "name": "#%%\n"
    }
   },
   "outputs": [
    {
     "name": "stdout",
     "output_type": "stream",
     "text": [
      "Graph a is predicted to be class: 1 | 0.705858168713444\n",
      "Graph b is predicted to be class: 0 | 0.0580546259618393\n"
     ]
    }
   ],
   "source": [
    "settings = Settings(optimizer=SGD(), epochs=200)\n",
    "neuralogic_evaluator = get_evaluator(template, settings)\n",
    "\n",
    "for _ in neuralogic_evaluator.train(train_dataset):\n",
    "    pass\n",
    "\n",
    "graphs = [\"a\", \"b\"]\n",
    "\n",
    "for graph_id, predicted in enumerate(neuralogic_evaluator.test(train_dataset)):\n",
    "    print(f\"Graph {graphs[graph_id]} is predicted to be class: {int(round(predicted))} | {predicted}\")"
   ]
  }
 ],
 "metadata": {
  "kernelspec": {
   "display_name": "Python 3 (ipykernel)",
   "language": "python",
   "name": "python3"
  },
  "language_info": {
   "codemirror_mode": {
    "name": "ipython",
    "version": 3
   },
   "file_extension": ".py",
   "mimetype": "text/x-python",
   "name": "python",
   "nbconvert_exporter": "python",
   "pygments_lexer": "ipython3",
   "version": "3.10.14"
  }
 },
 "nbformat": 4,
 "nbformat_minor": 1
}

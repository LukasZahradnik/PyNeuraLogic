{
 "cells": [
  {
   "cell_type": "markdown",
   "metadata": {},
   "source": [
    "# Distinguishing k-regular graphs\n",
    "\n",
    "\n",
    "Multiple graph structures are not distinguishable by the standard message\n",
    "passing Graph Neural Networks.\n",
    "For instance, the GNNs are not able to distinguish between\n",
    "_k_-regular graphs of the same size, such as the pair shown in the following image. Those graphs are not isomorphic and are both $3$-regular, meaning all nodes have precisely three neighbors.\n",
    "\n",
    "![3-Regular Graphs](https://raw.githubusercontent.com/LukasZahradnik/PyNeuraLogic/master/docs/_static/k_regular_graph.png)"
   ]
  },
  {
   "cell_type": "markdown",
   "metadata": {},
   "source": [
    "Install PyNeuraLogic from PyPI"
   ]
  },
  {
   "cell_type": "code",
   "execution_count": null,
   "metadata": {
    "pycharm": {
     "name": "#%%\n"
    }
   },
   "outputs": [],
   "source": [
    "! pip install neuralogic"
   ]
  },
  {
   "cell_type": "code",
   "execution_count": 1,
   "metadata": {
    "pycharm": {
     "name": "#%%\n"
    }
   },
   "outputs": [],
   "source": [
    "from neuralogic.nn import get_evaluator\n",
    "from neuralogic.core import Backend\n",
    "from neuralogic.core import R, Template, V\n",
    "from neuralogic.core.settings import Settings, Optimizer\n",
    "from neuralogic.dataset import Dataset"
   ]
  },
  {
   "cell_type": "markdown",
   "metadata": {},
   "source": [
    "When we assign the same features to all the nodes, the messages during the\n",
    "update step of the GNNs will be identical, resulting in\n",
    "the same node representations and eventually classifying both graphs the same.\n",
    "Such misclassification can be problematic in multiple domains, e.g.,\n",
    "chemistry, where two indistinguishable graphs represent two different molecules.\n",
    "\n",
    "With the PyNeuraLogic library, we are able to express various patterns in graphs\n",
    "or their parts. There are many alternative approaches to distinguish between\n",
    "those two graphs. Here we will utilize the previously introduced encoding of triangles to capture\n",
    "the triangles of graph _b_, and add some extra rules for capturing the\n",
    "general graph structure in the standard (GNN) fashion.\n"
   ]
  },
  {
   "cell_type": "code",
   "execution_count": 2,
   "metadata": {
    "pycharm": {
     "name": "#%%\n"
    }
   },
   "outputs": [],
   "source": [
    "train_dataset = Dataset()\n",
    "template = Template()\n",
    "\n",
    "template.add_rules([\n",
    "    # Captures triangle\n",
    "    R.triangle(V.X)[1,] <= (\n",
    "        R.edge(V.X, V.Y), R.feature(V.Y)[1,],\n",
    "        R.edge(V.Y, V.Z), R.feature(V.Z)[1,],\n",
    "        R.edge(V.Z, V.X), R.feature(V.X)[1,],\n",
    "    ),\n",
    "\n",
    "    # Captures general graph\n",
    "    R.general(V.X)[1,] <= (R.edge(V.Y, V.X), R.feature(V.Y)[1,]),\n",
    "    R.general(V.X)[1,] <= R.feature(V.X)[1,],\n",
    "\n",
    "    R.predict <= R.general(V.X)[1,],\n",
    "    R.predict <= R.triangle(V.X)[1,],\n",
    "])\n",
    "\n",
    "train_dataset.add_example(\n",
    "    [\n",
    "        R.edge(1, 2), R.edge(2, 3), R.edge(3, 4), R.edge(4, 1),\n",
    "        R.edge(2, 1), R.edge(3, 2), R.edge(4, 3), R.edge(1, 4),\n",
    "        R.edge(1, 6), R.edge(3, 6), R.edge(4, 5), R.edge(2, 5),\n",
    "        R.edge(6, 1), R.edge(6, 3), R.edge(5, 4), R.edge(5, 2),\n",
    "\n",
    "        R.feature(1), R.feature(2), R.feature(3),\n",
    "        R.feature(4), R.feature(5), R.feature(6),\n",
    "    ],\n",
    ")\n",
    "\n",
    "train_dataset.add_example(\n",
    "    [\n",
    "        R.edge(1, 2), R.edge(2, 3), R.edge(3, 4), R.edge(4, 1),\n",
    "        R.edge(2, 1), R.edge(3, 2), R.edge(4, 3), R.edge(1, 4),\n",
    "        R.edge(1, 6), R.edge(4, 6), R.edge(3, 5), R.edge(2, 5),\n",
    "        R.edge(6, 1), R.edge(6, 4), R.edge(5, 3), R.edge(5, 2),\n",
    "\n",
    "        R.feature(1), R.feature(2), R.feature(3),\n",
    "        R.feature(4), R.feature(5), R.feature(6),\n",
    "    ],\n",
    ")\n",
    "\n",
    "train_dataset.add_queries([\n",
    "    R.predict[1],\n",
    "    R.predict[0],\n",
    "])"
   ]
  },
  {
   "cell_type": "code",
   "execution_count": 3,
   "metadata": {
    "pycharm": {
     "name": "#%%\n"
    }
   },
   "outputs": [
    {
     "name": "stdout",
     "output_type": "stream",
     "text": [
      "Graph a is predicted to be class: 1 | 0.6948642533742446\n",
      "Graph b is predicted to be class: 0 | 0.0656221483155875\n"
     ]
    }
   ],
   "source": [
    "settings = Settings(optimizer=Optimizer.SGD, epochs=200)\n",
    "neuralogic_evaluator = get_evaluator(template, settings)\n",
    "\n",
    "for _ in neuralogic_evaluator.train(train_dataset):\n",
    "    pass\n",
    "\n",
    "graphs = [\"a\", \"b\"]\n",
    "\n",
    "for graph_id, (label, predicted) in enumerate(neuralogic_evaluator.test(train_dataset)):\n",
    "    print(f\"Graph {graphs[graph_id]} is predicted to be class: {int(round(predicted))} | {predicted}\")"
   ]
  }
 ],
 "metadata": {
  "kernelspec": {
   "display_name": "Python 3 (ipykernel)",
   "language": "python",
   "name": "python3"
  },
  "language_info": {
   "codemirror_mode": {
    "name": "ipython",
    "version": 3
   },
   "file_extension": ".py",
   "mimetype": "text/x-python",
   "name": "python",
   "nbconvert_exporter": "python",
   "pygments_lexer": "ipython3",
   "version": "3.9.7"
  }
 },
 "nbformat": 4,
 "nbformat_minor": 1
}

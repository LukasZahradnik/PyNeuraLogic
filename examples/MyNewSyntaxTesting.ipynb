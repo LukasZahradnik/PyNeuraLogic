{
 "cells": [
  {
   "cell_type": "code",
   "execution_count": 1,
   "metadata": {},
   "outputs": [
    {
     "name": "stdout",
     "output_type": "stream",
     "text": [
      "Calculating avg with 10\n",
      "Calculating avg with 20\n",
      "Applying ReLU with 12\n",
      "Applying ReLU with 24\n"
     ]
    }
   ],
   "source": [
    "\n",
    "class FunctionContainer:\n",
    "\n",
    "    class FunctionCallSimulator:\n",
    "        def __init__(self, function):\n",
    "            self.function = function\n",
    "\n",
    "        def __getitem__(self, args):\n",
    "            return self.function(args)\n",
    "\n",
    "        def __call__(self, arg):\n",
    "            return self.function(arg)\n",
    "\n",
    "    @property\n",
    "    def avg(self):\n",
    "        return self.FunctionCallSimulator(self._avg_function)\n",
    "\n",
    "    @property\n",
    "    def relu(self):\n",
    "        return self.FunctionCallSimulator(self._relu_function)\n",
    "\n",
    "    def _avg_function(self, x):\n",
    "        return f\"Calculating avg with {x}\"\n",
    "\n",
    "    def _relu_function(self, x):\n",
    "        # Implementation of your relu function\n",
    "        return f\"Applying ReLU with {x}\"\n",
    "\n",
    "# Usage\n",
    "F = FunctionContainer()\n",
    "print(F.avg[10])  # Calls _avg_function with 10 using __getitem__\n",
    "print(F.avg(20))  # Calls _avg_function with 20 using __call__\n",
    "print(F.relu[12])  # Calls _relu_function with 12 using __getitem__\n",
    "print(F.relu(24))  # Calls _relu_function with 24 using __call__"
   ]
  }
 ],
 "metadata": {
  "kernelspec": {
   "display_name": "bak",
   "language": "python",
   "name": "python3"
  },
  "language_info": {
   "codemirror_mode": {
    "name": "ipython",
    "version": 3
   },
   "file_extension": ".py",
   "mimetype": "text/x-python",
   "name": "python",
   "nbconvert_exporter": "python",
   "pygments_lexer": "ipython3",
   "version": "3.10.14"
  }
 },
 "nbformat": 4,
 "nbformat_minor": 2
}

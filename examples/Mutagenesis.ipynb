{
 "cells": [
  {
   "cell_type": "markdown",
   "metadata": {
    "id": "KKVdX_O7ZvY0"
   },
   "source": [
    "# PyNeuraLogic Introduction Example\n",
    "\n",
    "---\n",
    "\n",
    "This example will showcase how to define a GNN model in the PyNeuraLogic language and evaluate it. The example is self-contained, with everything that is required to be run in a Colab. It can also be run locally if the prerequisites are met (installed Java)."
   ]
  },
  {
   "cell_type": "markdown",
   "metadata": {
    "id": "8CEE1Vy1Z5pQ"
   },
   "source": [
    "Install PyNeuraLogic from PyPI"
   ]
  },
  {
   "cell_type": "code",
   "execution_count": null,
   "metadata": {
    "id": "SujsflJQZ6Nj"
   },
   "outputs": [],
   "source": [
    "! pip install neuralogic"
   ]
  },
  {
   "cell_type": "markdown",
   "metadata": {
    "id": "flQw3rmscE7K"
   },
   "source": [
    "## Dataset\n",
    "\n",
    "We are going to use one of the predefined datasets called [Mutagenesis](https://www.doc.ic.ac.uk/~shm/mutagenesis.html). This dataset contains information about molecules that we are going to classify for mutagenicity on Salmonella typhimurium.\n",
    "\n",
    "Predefined datasets are located in `neuralogic.utils.data`, and by calling `Mutagenesis`, we retrieve a tuple containing the model (rules) and the input data (dataset). For this example, we are going to ignore the model and will define our own."
   ]
  },
  {
   "cell_type": "code",
   "execution_count": 1,
   "metadata": {
    "id": "mglV4jndaL2B"
   },
   "outputs": [],
   "source": [
    "from neuralogic.utils.data import Mutagenesis\n",
    "\n",
    "\n",
    "_, dataset = Mutagenesis()"
   ]
  },
  {
   "cell_type": "markdown",
   "metadata": {
    "id": "Gk8AIcCFasFV"
   },
   "source": [
    "Predefined examples are loaded from the file. We can check the first sample to get an idea how the data look like."
   ]
  },
  {
   "cell_type": "code",
   "execution_count": 2,
   "metadata": {
    "colab": {
     "base_uri": "https://localhost:8080/"
    },
    "id": "6VaRsqkIasaZ",
    "outputId": "e0c391ff-139e-4ead-8a5a-fe458f508580"
   },
   "outputs": [
    {
     "name": "stdout",
     "output_type": "stream",
     "text": [
      "bond(d59_23, d59_5, 0), h(d59_23), c(d59_5), b_1(0), bond(d59_5, d59_23, 0), bond(d59_20, d59_19, 1), c(d59_20), c(d59_19), b_7(1), bond(d59_19, d59_20, 1), bond(d59_10, d59_3, 2), c(d59_10), c(d59_3), b_7(2), bond(d59_3, d59_10, 2), bond(d59_14, d59_10, 3), c(d59_14), b_7(3), bond(d59_10, d59_14, 3), bond(d59_4, d59_3, 4), c(d59_4), b_7(4), bond(d59_3, d59_4, 4), bond(d59_10, d59_9, 5), c(d59_9), b_7(5), bond(d59_9, d59_10, 5), bond(d59_15, d59_28, 6), c(d59_15), h(d59_28), b_1(6), bond(d59_28, d59_15, 6), bond(d59_12, d59_13, 7), c(d59_12), c(d59_13), b_7(7), bond(d59_13, d59_12, 7), bond(d59_8, d59_9, 8), c(d59_8), b_7(8), bond(d59_9, d59_8, 8), bond(d59_7, d59_25, 9), c(d59_7), h(d59_25), b_1(9), bond(d59_25, d59_7, 9), bond(d59_30, d59_17, 10), h(d59_30), c(d59_17), b_1(10), bond(d59_17, d59_30, 10), bond(d59_15, d59_12, 11), b_7(11), bond(d59_12, d59_15, 11), bond(d59_2, d59_1, 12), c(d59_2), c(d59_1), b_7(12), bond(d59_1, d59_2, 12), bond(d59_17, d59_16, 13), c(d59_16), b_7(13), bond(d59_16, d59_17, 13), bond(d59_31, d59_19, 14), h(d59_31), b_1(14), bond(d59_19, d59_31, 14), bond(d59_9, d59_11, 15), c(d59_11), b_7(15), bond(d59_11, d59_9, 15), bond(d59_3, d59_2, 16), b_7(16), bond(d59_2, d59_3, 16), bond(d59_27, d59_11, 17), h(d59_27), b_1(17), bond(d59_11, d59_27, 17), bond(d59_22, d59_4, 18), h(d59_22), b_1(18), bond(d59_4, d59_22, 18), bond(d59_7, d59_8, 19), b_7(19), bond(d59_8, d59_7, 19), bond(d59_24, d59_6, 20), h(d59_24), c(d59_6), b_1(20), bond(d59_6, d59_24, 20), bond(d59_15, d59_16, 21), b_7(21), bond(d59_16, d59_15, 21), bond(d59_7, d59_2, 22), b_7(22), bond(d59_2, d59_7, 22), bond(d59_18, d59_20, 23), c(d59_18), b_7(23), bond(d59_20, d59_18, 23), bond(d59_18, d59_17, 24), b_7(24), bond(d59_17, d59_18, 24), bond(d59_18, d59_13, 25), b_7(25), bond(d59_13, d59_18, 25), bond(d59_32, d59_33, 26), n(d59_32), o(d59_33), b_2(26), bond(d59_33, d59_32, 26), bond(d59_5, d59_6, 27), b_7(27), bond(d59_6, d59_5, 27), bond(d59_6, d59_1, 28), b_7(28), bond(d59_1, d59_6, 28), bond(d59_19, d59_14, 29), b_7(29), bond(d59_14, d59_19, 29), bond(d59_29, d59_16, 30), h(d59_29), b_1(30), bond(d59_16, d59_29, 30), bond(d59_11, d59_12, 31), b_7(31), bond(d59_12, d59_11, 31), bond(d59_14, d59_13, 32), b_7(32), bond(d59_13, d59_14, 32), bond(d59_26, d59_8, 33), h(d59_26), b_1(33), bond(d59_8, d59_26, 33), bond(d59_32, d59_34, 34), o(d59_34), b_2(34), bond(d59_34, d59_32, 34), bond(d59_32, d59_20, 35), b_1(35), bond(d59_20, d59_32, 35), bond(d59_1, d59_21, 36), h(d59_21), b_1(36), bond(d59_21, d59_1, 36), bond(d59_5, d59_4, 37), b_7(37), bond(d59_4, d59_5, 37).\n",
      "\n"
     ]
    }
   ],
   "source": [
    "with open(dataset.examples_file) as fp:\n",
    "    print(fp.readline())"
   ]
  },
  {
   "cell_type": "markdown",
   "metadata": {
    "id": "TLfOk69ublG9"
   },
   "source": [
    "This textual storage format is slightly different from the PyNeuraLogic language. To encode such samples directly in PyNeuraLogic (Python code), we would write:\n",
    "\n",
    "```\n",
    "Relation.bond(Term.d59_23, Term.d59_5, 0), Relation.h(Term.d59_23), ...\n",
    "```\n",
    "\n",
    "In this molecular example, we are essentially encoding heterogeneous graphs with edges called `bonds`, where the first two terms are the chemical atom ids, and the third term is the bond id. The atoms' ids are then associated with specific atom types, such as `h` for hydrogen. Bond ids are then associated with bond types, such as `b_1` for a single bond, etc."
   ]
  },
  {
   "cell_type": "markdown",
   "metadata": {
    "id": "KOZev_cScMQy"
   },
   "source": [
    "## Template\n",
    "\n",
    "To define the template (model's 'architecture'), we first embed each chemical atom type to `atom_embed` with a unique learnable parameter vector of shape `[3, 1]` (an embedding). This can be simplified by utilizing list comprehension."
   ]
  },
  {
   "cell_type": "code",
   "execution_count": 3,
   "metadata": {
    "id": "vf-ryNvOcOYX"
   },
   "outputs": [],
   "source": [
    "from neuralogic.core import Template, R, V\n",
    "\n",
    "\n",
    "template = Template()\n",
    "\n",
    "template.add_rules([\n",
    "    (R.atom_embed(V.A)[3, 1] <= R.get(atom)(V.A)) for atom in [\"c\", \"o\", \"br\", \"i\", \"f\", \"h\", \"n\", \"cl\"]\n",
    "])"
   ]
  },
  {
   "cell_type": "markdown",
   "metadata": {
    "id": "qV58Qp-JcVlu"
   },
   "source": [
    "In the same way, we encode embeddings for bonds."
   ]
  },
  {
   "cell_type": "code",
   "execution_count": 4,
   "metadata": {
    "id": "wuliEkxzcWZJ"
   },
   "outputs": [],
   "source": [
    "template.add_rules([\n",
    "    (R.bond_embed(V.B)[3, 1] <= R.get(bond)(V.B)) for bond in [\"b_1\", \"b_2\", \"b_3\", \"b_4\", \"b_5\", \"b_7\"]\n",
    "])"
   ]
  },
  {
   "cell_type": "markdown",
   "metadata": {
    "id": "yMI5Icgrccum"
   },
   "source": [
    "We add one rule ('layer'), which follows the message passing concept of GNNs. Particularly, it aggregates all neighbors `Y` (nodes connected by the bond relation) of the central node `X` and projects representations of `X` and `Y` from the previous layer (`atom_embed`) through learnable parameters of shape `[3, 3]`.  We then combine those projections together with bond embedding. We get a list of values for each neighbor `Y`, which are again combined into one tensor to serve as the output of the relation `layer_1` for node `X`."
   ]
  },
  {
   "cell_type": "code",
   "execution_count": 5,
   "metadata": {
    "id": "YAGhZIy9cdcg"
   },
   "outputs": [],
   "source": [
    "template.add_rule(\n",
    "    R.layer_1(V.X) <= (R.atom_embed(V.X)[3, 3], R.atom_embed(V.Y)[3, 3], R.bond(V.X, V.Y, V.B), R.bond_embed(V.B)),\n",
    ")"
   ]
  },
  {
   "cell_type": "markdown",
   "metadata": {
    "id": "GA5ehjCNcnlu"
   },
   "source": [
    "In the same way, we add another two layers that will be 'connected' by utilizing representations from the previous layer. "
   ]
  },
  {
   "cell_type": "code",
   "execution_count": 6,
   "metadata": {
    "id": "df_vNmbwcoIF"
   },
   "outputs": [],
   "source": [
    "template.add_rules([\n",
    "    R.layer_2(V.X) <= (R.layer_1(V.X)[3, 3], R.layer_1(V.Y)[3, 3], R.bond(V.X, V.Y, V.B), R.bond_embed(V.B)),\n",
    "    R.layer_3(V.X) <= (R.layer_2(V.X)[3, 3], R.layer_2(V.Y)[3, 3], R.bond(V.X, V.Y, V.B), R.bond_embed(V.B)),\n",
    "])"
   ]
  },
  {
   "cell_type": "markdown",
   "metadata": {
    "id": "4ZhNNrfrcuw7"
   },
   "source": [
    "In the last layer, we then aggregate all the nodes' (atoms') representations from the previous layer (`layer_3`), combine them, and project them through the learnable parameter of shape `[1, 3]` into a scalar value. This layer is then our output layer, corresponding to the learning target queries."
   ]
  },
  {
   "cell_type": "code",
   "execution_count": 7,
   "metadata": {
    "id": "K29q8NvLcvq4"
   },
   "outputs": [],
   "source": [
    "template.add_rule(\n",
    "    R.predict[1, 3] <= R.layer_3(V.X),\n",
    ")"
   ]
  },
  {
   "cell_type": "markdown",
   "metadata": {
    "id": "uju8LDYwcy2m"
   },
   "source": [
    "## Training\n",
    "\n",
    "When we have our dataset and template ready, it's time to build and train the model. We can do the training manually and write our own custom training loop, but we can also use predefined helpers - evaluators, that handle model building, training, dataset building, and more. Evaluators can be customized via `Settings`."
   ]
  },
  {
   "cell_type": "code",
   "execution_count": 8,
   "metadata": {
    "id": "OvixrLnZc2Ao"
   },
   "outputs": [],
   "source": [
    "from neuralogic.core import Backend, Settings, Optimizer\n",
    "from neuralogic.nn.loss import MSE\n",
    "from neuralogic.nn import get_evaluator\n",
    "\n",
    "\n",
    "epochs = 120\n",
    "\n",
    "settings = Settings(optimizer=Optimizer.ADAM, epochs=epochs, learning_rate=0.001, error_function=MSE())\n",
    "evaluator = get_evaluator(template, settings)"
   ]
  },
  {
   "cell_type": "markdown",
   "metadata": {
    "id": "t-AH9fwFddSn"
   },
   "source": [
    "We iterate through the iterator encapsulated in the `train` method for training, which yields a total loss of the epoch and the number of samples of the current epoch. We then get access to the results from the training loop that we can further visualize, inspect, log, etc."
   ]
  },
  {
   "cell_type": "code",
   "execution_count": 9,
   "metadata": {
    "colab": {
     "base_uri": "https://localhost:8080/",
     "height": 279
    },
    "id": "sSVqIDvoddzV",
    "outputId": "9b4ed322-e895-4005-8f03-5e6486b159c7"
   },
   "outputs": [
    {
     "data": {
      "image/png": "[encoded data removed]",
      "text/plain": [
       "<Figure size 432x288 with 1 Axes>"
      ]
     },
     "metadata": {
      "needs_background": "light"
     },
     "output_type": "display_data"
    }
   ],
   "source": [
    "from IPython.display import clear_output\n",
    "import matplotlib.pyplot as plt\n",
    "\n",
    "\n",
    "average_losses = []\n",
    "built_dataset = evaluator.build_dataset(dataset)\n",
    "\n",
    "for current_total_loss, number_of_samples in evaluator.train(built_dataset):\n",
    "    clear_output(wait=True)\n",
    "    plt.ylabel(\"Loss\")\n",
    "    plt.xlabel(\"Epoch\")\n",
    "\n",
    "    plt.xlim(0, epochs)\n",
    "\n",
    "    average_losses.append(current_total_loss / number_of_samples)\n",
    "    \n",
    "    plt.plot(average_losses, label=\"Average loss\")\n",
    "\n",
    "    plt.legend()\n",
    "    plt.pause(0.001)\n",
    "    plt.show()"
   ]
  },
  {
   "cell_type": "markdown",
   "metadata": {
    "id": "Jl4xOLjP0vOG"
   },
   "source": [
    "We can also check what values would be the model outputs (for the same sample set here) by utilizing the `test` method."
   ]
  },
  {
   "cell_type": "code",
   "execution_count": 10,
   "metadata": {
    "colab": {
     "base_uri": "https://localhost:8080/"
    },
    "id": "OrRL7-wk0t_L",
    "outputId": "9f62a6ce-b29d-4d1a-947f-eb16f5d93683"
   },
   "outputs": [
    {
     "name": "stdout",
     "output_type": "stream",
     "text": [
      "Expected: 1, Predicted: 1 (0.8306174075102593)\n",
      "Expected: 1, Predicted: 1 (0.787255127058544)\n",
      "Expected: 1, Predicted: 0 (0.440884592207807)\n",
      "Expected: 1, Predicted: 1 (0.6126456099228821)\n",
      "Expected: 1, Predicted: 0 (0.4779751533739857)\n",
      "Expected: 1, Predicted: 1 (0.6457926741992212)\n",
      "Expected: 1, Predicted: 1 (0.6457922428140661)\n",
      "Expected: 1, Predicted: 1 (0.5905041134651021)\n",
      "Expected: 1, Predicted: 1 (0.660019230951386)\n",
      "Expected: 1, Predicted: 0 (0.4951014221390377)\n",
      "Expected: 1, Predicted: 1 (0.5747658683606982)\n",
      "Expected: 1, Predicted: 1 (0.6047335298918872)\n",
      "Expected: 1, Predicted: 0 (0.494904298000959)\n",
      "Expected: 1, Predicted: 0 (0.4949075032951303)\n",
      "Expected: 1, Predicted: 1 (0.6659080374952085)\n",
      "Expected: 1, Predicted: 0 (0.3478092545761879)\n",
      "Expected: 1, Predicted: 1 (0.7249049112438221)\n",
      "Expected: 1, Predicted: 0 (0.2780995354813289)\n",
      "Expected: 1, Predicted: 1 (0.6592086285822768)\n",
      "Expected: 1, Predicted: 1 (0.717483215112071)\n",
      "Expected: 1, Predicted: 1 (0.830620905017625)\n",
      "Expected: 1, Predicted: 1 (0.6124596936977884)\n",
      "Expected: 1, Predicted: 1 (0.6665966642314338)\n",
      "Expected: 1, Predicted: 1 (0.6458016177227236)\n",
      "Expected: 1, Predicted: 1 (0.7249049112438221)\n",
      "Expected: 1, Predicted: 1 (0.6355312322886153)\n",
      "Expected: 1, Predicted: 1 (0.7348404720970444)\n",
      "Expected: 1, Predicted: 0 (0.4207832290826834)\n",
      "Expected: 1, Predicted: 0 (0.3453299636872015)\n",
      "Expected: 1, Predicted: 1 (0.6818310673193504)\n",
      "Expected: 1, Predicted: 1 (0.6434441516624291)\n",
      "Expected: 1, Predicted: 1 (0.8012077757484318)\n",
      "Expected: 1, Predicted: 1 (0.718885611366706)\n",
      "Expected: 1, Predicted: 1 (0.6924519247902429)\n",
      "Expected: 1, Predicted: 1 (0.521739801696201)\n",
      "Expected: 1, Predicted: 1 (0.7765854619708907)\n",
      "Expected: 1, Predicted: 1 (0.539876696755702)\n",
      "Expected: 1, Predicted: 1 (0.8014011495694413)\n",
      "Expected: 1, Predicted: 1 (0.7761588790699125)\n",
      "Expected: 1, Predicted: 1 (0.7764111133082865)\n",
      "Expected: 1, Predicted: 1 (0.6411545993793918)\n",
      "Expected: 1, Predicted: 1 (0.7766990462624233)\n",
      "Expected: 1, Predicted: 1 (0.776159271346521)\n",
      "Expected: 1, Predicted: 1 (0.8306021822765015)\n",
      "Expected: 1, Predicted: 1 (0.8305176045063067)\n",
      "Expected: 1, Predicted: 1 (0.7728276484990161)\n",
      "Expected: 1, Predicted: 1 (0.5467293062393672)\n",
      "Expected: 1, Predicted: 1 (0.640777084575901)\n",
      "Expected: 1, Predicted: 1 (0.8146376793770669)\n",
      "Expected: 1, Predicted: 1 (0.8314877070278417)\n",
      "Expected: 1, Predicted: 1 (0.5400754662126469)\n",
      "Expected: 1, Predicted: 0 (0.4951018136065397)\n",
      "Expected: 1, Predicted: 1 (0.831493337726286)\n",
      "Expected: 1, Predicted: 1 (0.7347008961050078)\n",
      "Expected: 1, Predicted: 1 (0.5904062154769246)\n",
      "Expected: 1, Predicted: 0 (0.4210320609336398)\n",
      "Expected: 1, Predicted: 0 (-0.1357996481031488)\n",
      "Expected: 1, Predicted: 0 (0.440885368091832)\n",
      "Expected: 1, Predicted: 1 (0.5371906951823514)\n",
      "Expected: 1, Predicted: 0 (0.4633137449607119)\n",
      "Expected: 1, Predicted: 1 (0.7369286645230734)\n",
      "Expected: 1, Predicted: 1 (0.604667035111808)\n",
      "Expected: 1, Predicted: 1 (0.7872480728890957)\n",
      "Expected: 1, Predicted: 1 (0.776557108412553)\n",
      "Expected: 1, Predicted: 0 (0.4237057574361077)\n",
      "Expected: 1, Predicted: 1 (0.6925749869912846)\n",
      "Expected: 1, Predicted: 1 (0.8120411907528878)\n",
      "Expected: 1, Predicted: 1 (0.6812073153809994)\n",
      "Expected: 1, Predicted: 1 (0.7765853591388391)\n",
      "Expected: 1, Predicted: 1 (0.8147567479104151)\n",
      "Expected: 1, Predicted: 1 (0.7628471543690675)\n",
      "Expected: 1, Predicted: 1 (0.6976075682324824)\n",
      "Expected: 1, Predicted: 0 (0.462228717229752)\n",
      "Expected: 1, Predicted: 1 (0.580901338289096)\n",
      "Expected: 1, Predicted: 1 (0.8676525851834198)\n",
      "Expected: 1, Predicted: 1 (0.778515289613996)\n",
      "Expected: 1, Predicted: 1 (0.8306185059964996)\n",
      "Expected: 1, Predicted: 1 (0.6811986599024982)\n",
      "Expected: 1, Predicted: 1 (0.6672498090266465)\n",
      "Expected: 1, Predicted: 1 (0.5566930105806217)\n",
      "Expected: 1, Predicted: 1 (0.643434964860073)\n",
      "Expected: 1, Predicted: 1 (0.6649730435617786)\n",
      "Expected: 1, Predicted: 1 (0.5034460311693555)\n",
      "Expected: 1, Predicted: 1 (0.5819557920778925)\n",
      "Expected: 1, Predicted: 1 (0.830620905017625)\n",
      "Expected: 1, Predicted: 0 (0.3299020692011815)\n",
      "Expected: 1, Predicted: 1 (0.6799557158145174)\n",
      "Expected: 1, Predicted: 1 (0.590494631881739)\n",
      "Expected: 1, Predicted: 1 (0.5371907609146735)\n",
      "Expected: 1, Predicted: 1 (0.6355077216919172)\n",
      "Expected: 1, Predicted: 1 (0.6879955311269119)\n",
      "Expected: 1, Predicted: 1 (0.778358024076402)\n",
      "Expected: 1, Predicted: 1 (0.7346938835852876)\n",
      "Expected: 1, Predicted: 0 (0.4633137449607116)\n",
      "Expected: 1, Predicted: 1 (0.734543439374513)\n",
      "Expected: 1, Predicted: 1 (0.8146425824094894)\n",
      "Expected: 1, Predicted: 1 (0.7129670569810684)\n",
      "Expected: 1, Predicted: 0 (0.4408849801499021)\n",
      "Expected: 1, Predicted: 1 (0.708951343673217)\n",
      "Expected: 1, Predicted: 1 (0.787255127058544)\n",
      "Expected: 1, Predicted: 1 (0.5903967322105627)\n",
      "Expected: 1, Predicted: 1 (0.666166579077793)\n",
      "Expected: 1, Predicted: 1 (0.7766925709958367)\n",
      "Expected: 1, Predicted: 1 (0.6647842312496043)\n",
      "Expected: 1, Predicted: 1 (0.5022427705479183)\n",
      "Expected: 1, Predicted: 1 (0.692607357453622)\n",
      "Expected: 1, Predicted: 1 (0.6799557158145174)\n",
      "Expected: 1, Predicted: 1 (0.8049262352888766)\n",
      "Expected: 1, Predicted: 1 (0.5217411276977068)\n",
      "Expected: 1, Predicted: 1 (0.6173779186085853)\n",
      "Expected: 1, Predicted: 0 (0.4408845922078073)\n",
      "Expected: 1, Predicted: 1 (0.7770470477070076)\n",
      "Expected: 1, Predicted: 1 (0.8120590526491716)\n",
      "Expected: 1, Predicted: 1 (0.734497732873306)\n",
      "Expected: 1, Predicted: 1 (0.7761592713465209)\n",
      "Expected: 1, Predicted: 1 (0.7628505508823916)\n",
      "Expected: 1, Predicted: 1 (0.7345779259618539)\n",
      "Expected: 1, Predicted: 1 (0.7507838097679084)\n",
      "Expected: 1, Predicted: 1 (0.829735389269401)\n",
      "Expected: 1, Predicted: 1 (0.5399760804061792)\n",
      "Expected: 1, Predicted: 1 (0.7345282892228369)\n",
      "Expected: 1, Predicted: 1 (0.6656379114634668)\n",
      "Expected: 1, Predicted: 0 (0.3815732736537418)\n",
      "Expected: 1, Predicted: 0 (0.4620179512395263)\n",
      "Expected: 1, Predicted: 1 (0.5914784902003012)\n",
      "Expected: 0, Predicted: 0 (0.3481343100171738)\n",
      "Expected: 0, Predicted: 0 (0.4973395011210093)\n",
      "Expected: 0, Predicted: 0 (0.1832870133357005)\n",
      "Expected: 0, Predicted: 1 (0.6759438138125478)\n",
      "Expected: 0, Predicted: 0 (0.3478578838332644)\n",
      "Expected: 0, Predicted: 0 (0.1835294848649139)\n",
      "Expected: 0, Predicted: 0 (0.0379293634078383)\n",
      "Expected: 0, Predicted: 1 (0.6661658357237544)\n",
      "Expected: 0, Predicted: 0 (0.4948924602851172)\n",
      "Expected: 0, Predicted: 0 (0.3179687602233869)\n",
      "Expected: 0, Predicted: 0 (0.1003874489230215)\n",
      "Expected: 0, Predicted: 0 (0.1413403985798971)\n",
      "Expected: 0, Predicted: 0 (0.49868041201783)\n",
      "Expected: 0, Predicted: -1 (-0.6397323973465429)\n",
      "Expected: 0, Predicted: 0 (0.4949938342049808)\n",
      "Expected: 0, Predicted: 0 (0.4973057193224734)\n",
      "Expected: 0, Predicted: 0 (0.4244208268479963)\n",
      "Expected: 0, Predicted: 0 (0.4946479164039554)\n",
      "Expected: 0, Predicted: 0 (0.1410921990861191)\n",
      "Expected: 0, Predicted: 0 (0.2030321043803102)\n",
      "Expected: 0, Predicted: 0 (0.2809403750082917)\n",
      "Expected: 0, Predicted: 0 (0.2229626282108539)\n",
      "Expected: 0, Predicted: 0 (0.402008881229048)\n",
      "Expected: 0, Predicted: 0 (0.0493316662748925)\n",
      "Expected: 0, Predicted: 1 (0.510272113930138)\n",
      "Expected: 0, Predicted: 0 (0.4239136643686287)\n",
      "Expected: 0, Predicted: 0 (0.4131874778388439)\n",
      "Expected: 0, Predicted: 0 (0.220795441385058)\n",
      "Expected: 0, Predicted: 0 (0.4944727225708411)\n",
      "Expected: 0, Predicted: 0 (0.4948956656290274)\n",
      "Expected: 0, Predicted: 1 (0.5947876939079773)\n",
      "Expected: 0, Predicted: 1 (0.5944456757064179)\n",
      "Expected: 0, Predicted: 1 (0.5902962061725758)\n",
      "Expected: 0, Predicted: 0 (0.4416794055187773)\n",
      "Expected: 0, Predicted: 0 (0.4950056703475972)\n",
      "Expected: 0, Predicted: 0 (0.1455710750413575)\n",
      "Expected: 0, Predicted: 0 (0.2230301814485742)\n",
      "Expected: 0, Predicted: 1 (0.5398603722760432)\n",
      "Expected: 0, Predicted: 0 (0.4004093298098955)\n",
      "Expected: 0, Predicted: 1 (0.5948217025948639)\n",
      "Expected: 0, Predicted: 0 (-0.1717299309290489)\n",
      "Expected: 0, Predicted: 0 (-0.0850909567462022)\n",
      "Expected: 0, Predicted: 0 (0.0842593936757403)\n",
      "Expected: 0, Predicted: 1 (0.7292849401877621)\n",
      "Expected: 0, Predicted: 0 (0.2230121966150165)\n",
      "Expected: 0, Predicted: 0 (0.2803916623696415)\n",
      "Expected: 0, Predicted: 0 (0.2208005029349013)\n",
      "Expected: 0, Predicted: 0 (-0.1716082661990457)\n",
      "Expected: 0, Predicted: 0 (0.4743546354095371)\n",
      "Expected: 0, Predicted: 0 (-0.0155543058977852)\n",
      "Expected: 0, Predicted: 0 (0.3456637282938516)\n",
      "Expected: 0, Predicted: 0 (0.0842769834514837)\n",
      "Expected: 0, Predicted: 0 (0.1003678613628426)\n",
      "Expected: 0, Predicted: 1 (0.6158482589291929)\n",
      "Expected: 0, Predicted: 0 (0.202994866333449)\n",
      "Expected: 0, Predicted: 1 (0.5591318843387222)\n",
      "Expected: 0, Predicted: 1 (0.7295183605480215)\n",
      "Expected: 0, Predicted: 0 (0.2016276576609767)\n",
      "Expected: 0, Predicted: 0 (0.4943696726164393)\n",
      "Expected: 0, Predicted: 0 (0.3994470583863398)\n",
      "Expected: 0, Predicted: 0 (0.2026415752867619)\n",
      "Expected: 0, Predicted: 1 (0.6980617620882388)\n",
      "Expected: 0, Predicted: 0 (0.2794120661170946)\n"
     ]
    }
   ],
   "source": [
    "for y, y_hat in evaluator.test(built_dataset):\n",
    "    print(f\"Expected: {y}, Predicted: {round(y_hat)} ({y_hat})\")"
   ]
  }
 ],
 "metadata": {
  "colab": {
   "collapsed_sections": [],
   "name": "Mutagenesis.ipynb",
   "provenance": []
  },
  "kernelspec": {
   "display_name": "Python 3 (ipykernel)",
   "language": "python",
   "name": "python3"
  },
  "language_info": {
   "codemirror_mode": {
    "name": "ipython",
    "version": 3
   },
   "file_extension": ".py",
   "mimetype": "text/x-python",
   "name": "python",
   "nbconvert_exporter": "python",
   "pygments_lexer": "ipython3",
   "version": "3.9.7"
  }
 },
 "nbformat": 4,
 "nbformat_minor": 1
}

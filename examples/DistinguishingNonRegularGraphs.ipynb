{
 "cells": [
  {
   "cell_type": "markdown",
   "metadata": {},
   "source": [
    "# Distinguishing non-regular graphs\n",
    "\n",
    "There are instances of graphs that are not *k*-regular nor isomorphic and yet\n",
    "are not distinguishable via the classic GNNs when their nodes\n",
    "have identical features. An example of such graphs is shown in the following image.\n",
    "\n",
    "![Non Regular Graphs](https://raw.githubusercontent.com/LukasZahradnik/PyNeuraLogic/master/docs/_static/non_regular_graphs.png)\n",
    "\n",
    "\n",
    "In PyNeuraLogic, you can easily distinguish those graphs,\n",
    "for example yet again with the previous model ([Distinguishing K Regular Graphs](https://github.com/LukasZahradnik/PyNeuraLogic/blob/master/examples/DistinguishingKRegularGraphs.ipynb))\n",
    "which captures triangular subgraph patterns."
   ]
  },
  {
   "cell_type": "markdown",
   "metadata": {},
   "source": [
    "Install PyNeuraLogic from PyPI"
   ]
  },
  {
   "cell_type": "code",
   "execution_count": null,
   "metadata": {
    "pycharm": {
     "name": "#%%\n"
    }
   },
   "outputs": [],
   "source": [
    "! pip install neuralogic"
   ]
  },
  {
   "cell_type": "code",
   "execution_count": 1,
   "metadata": {
    "pycharm": {
     "name": "#%%\n"
    }
   },
   "outputs": [],
   "source": [
    "from neuralogic.nn import get_evaluator\n",
    "from neuralogic.core import Backend\n",
    "from neuralogic.core import R, Template, V\n",
    "from neuralogic.core.settings import Settings, Optimizer\n",
    "from neuralogic.dataset import Dataset\n"
   ]
  },
  {
   "cell_type": "code",
   "execution_count": 2,
   "metadata": {
    "pycharm": {
     "name": "#%%\n"
    }
   },
   "outputs": [],
   "source": [
    "train_dataset = Dataset()\n",
    "template = Template()\n",
    "\n",
    "template.add_rules([\n",
    "    # Captures triangle\n",
    "    R.triangle(V.X)[1,] <= (\n",
    "        R.edge(V.X, V.Y), R.feature(V.Y)[1,],\n",
    "        R.edge(V.Y, V.Z), R.feature(V.Z)[1,],\n",
    "        R.edge(V.Z, V.X), R.feature(V.X)[1,],\n",
    "    ),\n",
    "\n",
    "    # Captures general graph\n",
    "    R.general(V.X)[1,] <= (R.edge(V.Y, V.X), R.feature(V.Y)[1,]),\n",
    "    R.general(V.X)[1,] <= R.feature(V.X)[1,],\n",
    "\n",
    "    R.predict <= R.general(V.X)[1,],\n",
    "    R.predict <= R.triangle(V.X)[1,],\n",
    "])\n",
    "\n",
    "# Encoding of graph a)\n",
    "train_dataset.add_example(\n",
    "    [\n",
    "        R.edge(1, 2), R.edge(2, 3), R.edge(3, 1), R.edge(2, 4),\n",
    "        R.edge(4, 5), R.edge(5, 6), R.edge(6, 4),\n",
    "        R.edge(2, 1), R.edge(3, 2), R.edge(1, 3), R.edge(4, 2),\n",
    "        R.edge(5, 4), R.edge(6, 5), R.edge(4, 6),\n",
    "\n",
    "        R.feature(1), R.feature(2), R.feature(3),\n",
    "        R.feature(4), R.feature(5), R.feature(6),\n",
    "    ],\n",
    ")\n",
    "\n",
    "# Encoding of graph b)\n",
    "train_dataset.add_example(\n",
    "    [\n",
    "        R.edge(1, 2), R.edge(2, 3), R.edge(3, 4), R.edge(4, 1),\n",
    "        R.edge(2, 5), R.edge(5, 6), R.edge(6, 3),\n",
    "        R.edge(2, 1), R.edge(3, 2), R.edge(4, 3), R.edge(1, 4),\n",
    "        R.edge(5, 2), R.edge(6, 5), R.edge(3, 6),\n",
    "\n",
    "        R.feature(1), R.feature(2), R.feature(3),\n",
    "        R.feature(4), R.feature(5), R.feature(6),\n",
    "    ],\n",
    ")\n",
    "\n",
    "train_dataset.add_queries([\n",
    "    R.predict[1],\n",
    "    R.predict[0],\n",
    "])"
   ]
  },
  {
   "cell_type": "code",
   "execution_count": 3,
   "metadata": {
    "pycharm": {
     "name": "#%%\n"
    }
   },
   "outputs": [
    {
     "name": "stdout",
     "output_type": "stream",
     "text": [
      "Graph a is predicted to be class: 1 | 0.7405298885946587\n",
      "Graph b is predicted to be class: 0 | 0.1375019328232371\n"
     ]
    }
   ],
   "source": [
    "settings = Settings(optimizer=Optimizer.SGD, epochs=200)\n",
    "neuralogic_evaluator = get_evaluator(template, settings, Backend.JAVA)\n",
    "\n",
    "for _ in neuralogic_evaluator.train(train_dataset):\n",
    "    pass\n",
    "\n",
    "graphs = [\"a\", \"b\"]\n",
    "\n",
    "for graph_id, predicted in enumerate(neuralogic_evaluator.test(train_dataset)):\n",
    "    print(f\"Graph {graphs[graph_id]} is predicted to be class: {int(round(predicted))} | {predicted}\")"
   ]
  },
  {
   "cell_type": "markdown",
   "metadata": {},
   "source": [
    "\n",
    "Another interesting approach with a slightly different extension\n",
    "of the vanilla GNNs might be capturing graphs based on its structure and the\n",
    "cardinality of nodes. We can add additional information about the\n",
    "cardinality of each node into examples, for instance, as atoms with\n",
    "predicate's name *cardinality* with two terms -\n",
    "the node id and its cardinality. We can then choose which atom will\n",
    "be aggregated based on its cardinality to distinguish graph _a_ and graph *b*, as shown in Example 2, where we capture only the sub-graphs\n",
    "\n",
    "The `a_graph` captures a triangle (`V.X`, `V.Y`, `V.Z`)\n",
    "connected to one node (`V.T`) with a cardinality of three.\n",
    "In contrast, the `b_graph` captures a cycle of length of four\n",
    " (`V.X`, `V.Y`, `V.Z`, `V.T`)\n",
    " which has to satisfy required cardinalities.\n",
    "\n",
    "\n",
    "#### Example 2: Distinguishing between graphs based on their cardinality"
   ]
  },
  {
   "cell_type": "code",
   "execution_count": 4,
   "metadata": {
    "pycharm": {
     "name": "#%%\n"
    }
   },
   "outputs": [],
   "source": [
    "train_dataset = Dataset()\n",
    "\n",
    "template = Template()\n",
    "\n",
    "template.add_rules([\n",
    "    R.a_graph(V.X) <= (\n",
    "        R.edge(V.X, V.Y), R.cardinality(V.Y, 2)[1,],\n",
    "        R.edge(V.Y, V.Z), R.cardinality(V.Z, 2)[1,],\n",
    "        R.edge(V.Z, V.X), R.cardinality(V.X, 3)[1,],\n",
    "        R.edge(V.X, V.T), R.cardinality(V.T, 3)[1,],\n",
    "        R.special.alldiff(...),\n",
    "    ),\n",
    "    R.b_graph(V.X) <= (\n",
    "        R.edge(V.X, V.Y), R.cardinality(V.Y, 2)[1,],\n",
    "        R.edge(V.Y, V.Z), R.cardinality(V.Z, 2)[1,],\n",
    "        R.edge(V.Z, V.T), R.cardinality(V.T, 3)[1,],\n",
    "        R.edge(V.T, V.X), R.cardinality(V.X, 3)[1,],\n",
    "        R.special.alldiff(...),\n",
    "    ),\n",
    "    R.predict <= R.a_graph(V.X)[1,],\n",
    "    R.predict <= R.b_graph(V.X)[1,],\n",
    "])\n",
    "\n",
    "# Encoding of graph a)\n",
    "train_dataset.add_example(\n",
    "    [\n",
    "        R.edge(1, 2), R.edge(2, 3), R.edge(3, 1), R.edge(2, 4),\n",
    "        R.edge(4, 5), R.edge(5, 6), R.edge(6, 4),\n",
    "        R.edge(2, 1), R.edge(3, 2), R.edge(1, 3), R.edge(4, 2),\n",
    "        R.edge(5, 4), R.edge(6, 5), R.edge(4, 6),\n",
    "\n",
    "        R.cardinality(1, 2), R.cardinality(2, 3), R.cardinality(3, 2),\n",
    "        R.cardinality(4, 3), R.cardinality(5, 2), R.cardinality(6, 2),\n",
    "    ],\n",
    ")\n",
    "\n",
    "# Encoding of graph b)\n",
    "train_dataset.add_example(\n",
    "    [\n",
    "        R.edge(1, 2), R.edge(2, 3), R.edge(3, 4), R.edge(4, 1),\n",
    "        R.edge(2, 5), R.edge(5, 6), R.edge(6, 3),\n",
    "        R.edge(2, 1), R.edge(3, 2), R.edge(4, 3), R.edge(1, 4),\n",
    "        R.edge(5, 2), R.edge(6, 5), R.edge(3, 6),\n",
    "\n",
    "        R.cardinality(1, 2), R.cardinality(2, 3), R.cardinality(3, 3),\n",
    "        R.cardinality(4, 2), R.cardinality(5, 2), R.cardinality(6, 2),\n",
    "    ],\n",
    ")\n",
    "\n",
    "train_dataset.add_queries([\n",
    "    R.predict[1],\n",
    "    R.predict[0],\n",
    "])"
   ]
  },
  {
   "cell_type": "code",
   "execution_count": 5,
   "metadata": {
    "pycharm": {
     "name": "#%%\n"
    }
   },
   "outputs": [
    {
     "name": "stdout",
     "output_type": "stream",
     "text": [
      "Graph a is predicted to be class: 1 | 0.725646713848056\n",
      "Graph b is predicted to be class: 0 | 4.85387435e-08\n"
     ]
    }
   ],
   "source": [
    "settings = Settings(optimizer=Optimizer.SGD, epochs=200)\n",
    "neuralogic_evaluator = get_evaluator(template, settings)\n",
    "\n",
    "for _ in neuralogic_evaluator.train(train_dataset):\n",
    "    pass\n",
    "\n",
    "graphs = [\"a\", \"b\"]\n",
    "\n",
    "for graph_id, predicted in enumerate(neuralogic_evaluator.test(train_dataset)):\n",
    "    print(f\"Graph {graphs[graph_id]} is predicted to be class: {int(round(predicted))} | {predicted}\")"
   ]
  },
  {
   "cell_type": "markdown",
   "metadata": {
    "pycharm": {
     "name": "#%% md\n"
    }
   },
   "source": [
    "![Non Regular Molecules](https://raw.githubusercontent.com/LukasZahradnik/PyNeuraLogic/master/docs/_static/non_regular_molecules.png)\n",
    "\n",
    "The image above shows two graphs, a\n",
    "and b,\n",
    "representing real-world structures of two molecules _Bicyclopentyl_\n",
    "and *Decalin*, respectively. Yet again, the standard GNNs cannot distinguish between these\n",
    "graphs structures.\n",
    "Let us use PyNeuraLogic to capture, for example, the cycle of length five present in\n",
    "graph _a_ and thus distinguish those instances, such as is shown in\n",
    "Example 3.\n",
    "\n",
    "\n",
    "#### Example 3: Capturing the cycle of the length of five"
   ]
  },
  {
   "cell_type": "code",
   "execution_count": 6,
   "metadata": {
    "pycharm": {
     "name": "#%%\n"
    }
   },
   "outputs": [],
   "source": [
    "train_dataset = Dataset()\n",
    "template = Template()\n",
    "\n",
    "template.add_rules([\n",
    "    # Captures cycle of the length of five (Bicyclopentyl)\n",
    "    R.cycle_of_the_length_of_five(V.X)[1,] <= (\n",
    "        R.edge(V.X, V.Y), R.feature(V.Y)[1,],\n",
    "        R.edge(V.Y, V.Z), R.feature(V.Z)[1,],\n",
    "        R.edge(V.Z, V.R), R.feature(V.R)[1,],\n",
    "        R.edge(V.R, V.S), R.feature(V.S)[1,],\n",
    "        R.edge(V.S, V.X), R.feature(V.X)[1,],\n",
    "        R.special.alldiff(...),\n",
    "    ),\n",
    "\n",
    "    # Captures general graph (such as Decalin)\n",
    "    R.general(V.X)[1,] <= (R.edge(V.Y, V.X), R.feature(V.Y)[1,]),\n",
    "    R.general(V.X)[1,] <= R.feature(V.X)[1,],\n",
    "\n",
    "    R.predict <= R.general(V.X)[1,],\n",
    "    R.predict <= R.cycle_of_the_length_of_five(V.X)[1,],\n",
    "])\n",
    "\n",
    "# Encoding of graph Bicyclopentyl\n",
    "train_dataset.add_example(\n",
    "    [\n",
    "        R.edge(1, 2), R.edge(2, 3), R.edge(3, 4), R.edge(4, 5), R.edge(5, 1), R.edge(1, 6),\n",
    "        R.edge(2, 1), R.edge(3, 2), R.edge(4, 3), R.edge(5, 4), R.edge(1, 5), R.edge(6, 1),\n",
    "        R.edge(6, 7), R.edge(7, 8), R.edge(8, 9), R.edge(9, 10), R.edge(10, 6),\n",
    "        R.edge(7, 6), R.edge(8, 7), R.edge(9, 8), R.edge(10, 9), R.edge(6, 10),\n",
    "\n",
    "        R.feature(1), R.feature(2), R.feature(3), R.feature(4), R.feature(5),\n",
    "        R.feature(6), R.feature(7), R.feature(8), R.feature(9), R.feature(10),\n",
    "    ],\n",
    ")\n",
    "\n",
    "# Encoding of graph Decalin\n",
    "train_dataset.add_example(\n",
    "    [\n",
    "        R.edge(1, 2), R.edge(2, 3), R.edge(3, 4), R.edge(4, 5), R.edge(5, 6), R.edge(1, 6),\n",
    "        R.edge(2, 1), R.edge(3, 2), R.edge(4, 3), R.edge(5, 4), R.edge(6, 5), R.edge(6, 1),\n",
    "        R.edge(6, 7), R.edge(7, 8), R.edge(8, 9), R.edge(9, 10), R.edge(10, 1),\n",
    "        R.edge(7, 6), R.edge(8, 7), R.edge(9, 8), R.edge(10, 9), R.edge(1, 10),\n",
    "\n",
    "        R.feature(1), R.feature(2), R.feature(3), R.feature(4), R.feature(5),\n",
    "        R.feature(6), R.feature(7), R.feature(8), R.feature(9), R.feature(10),\n",
    "    ],\n",
    ")\n",
    "\n",
    "train_dataset.add_queries([\n",
    "    R.predict[1],\n",
    "    R.predict[0],\n",
    "])"
   ]
  },
  {
   "cell_type": "code",
   "execution_count": 7,
   "metadata": {
    "pycharm": {
     "name": "#%%\n"
    }
   },
   "outputs": [
    {
     "name": "stdout",
     "output_type": "stream",
     "text": [
      "Graph Bicyclopentyl is predicted to be class: 1 | 0.7530744743437316\n",
      "Graph Decalin is predicted to be class: 0 | 0.1192371052030012\n"
     ]
    }
   ],
   "source": [
    "settings = Settings(optimizer=Optimizer.SGD, epochs=200)\n",
    "neuralogic_evaluator = get_evaluator(template, settings)\n",
    "\n",
    "for _ in neuralogic_evaluator.train(train_dataset):\n",
    "    pass\n",
    "\n",
    "graphs = [\"Bicyclopentyl\", \"Decalin\"]\n",
    "\n",
    "for graph_id, predicted in enumerate(neuralogic_evaluator.test(train_dataset)):\n",
    "    print(f\"Graph {graphs[graph_id]} is predicted to be class: {int(round(predicted))} | {predicted}\")"
   ]
  }
 ],
 "metadata": {
  "kernelspec": {
   "display_name": "Python 3 (ipykernel)",
   "language": "python",
   "name": "python3"
  },
  "language_info": {
   "codemirror_mode": {
    "name": "ipython",
    "version": 3
   },
   "file_extension": ".py",
   "mimetype": "text/x-python",
   "name": "python",
   "nbconvert_exporter": "python",
   "pygments_lexer": "ipython3",
   "version": "3.9.7"
  }
 },
 "nbformat": 4,
 "nbformat_minor": 1
}

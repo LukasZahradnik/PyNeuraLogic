{
 "cells": [
  {
   "cell_type": "code",
   "execution_count": 1,
   "metadata": {},
   "outputs": [
    {
     "name": "stderr",
     "output_type": "stream",
     "text": [
      "C:\\Users\\kraus\\Plocha\\BAK\\PyNeuraLogicFork\\neuralogic\\core\\builder\\builder.py:4: TqdmExperimentalWarning: Using `tqdm.autonotebook.tqdm` in notebook mode. Use `tqdm.tqdm` instead to force console mode (e.g. in jupyter console)\n",
      "  from tqdm.autonotebook import tqdm\n"
     ]
    }
   ],
   "source": [
    "from neuralogic.nn import get_evaluator\n",
    "from neuralogic.core import Template, R, Settings, Transformation, Combination, Aggregation\n",
    "from neuralogic.core.constructs.function.tree import FunctionContainer\n",
    "from neuralogic.core.settings import Settings\n",
    "from neuralogic.dataset import Dataset\n",
    "from neuralogic.optim import SGD\n",
    "\n",
    "F = FunctionContainer()\n",
    "train_dataset = Dataset()\n",
    "template = Template()"
   ]
  },
  {
   "cell_type": "code",
   "execution_count": null,
   "metadata": {},
   "outputs": [],
   "source": [
    "a = 100\n",
    "tree = F.softmax[F.softmax(F.softmax(a))]\n",
    "print(tree.create_metadata())\n",
    "print([Combination.SOFTMAX, Transformation.SOFTMAX, Aggregation.SOFTMAX])"
   ]
  },
  {
   "cell_type": "code",
   "execution_count": 3,
   "metadata": {},
   "outputs": [
    {
     "name": "stdout",
     "output_type": "stream",
     "text": [
      "[<neuralogic.core.constructs.function.function.Combination object at 0x0000025F169392C0>, <neuralogic.core.constructs.function.softmax.Softmax object at 0x0000025F1673C310>]\n",
      "[<neuralogic.core.constructs.function.function.Combination object at 0x0000025F169392C0>, <neuralogic.core.constructs.function.softmax.Softmax object at 0x0000025F1673C310>]\n"
     ]
    }
   ],
   "source": [
    "a = 100\n",
    "tree = F.softmax[F.softmax(a)]\n",
    "print(tree.create_metadata())\n",
    "print([Combination.SOFTMAX, Aggregation.SOFTMAX])"
   ]
  },
  {
   "cell_type": "code",
   "execution_count": null,
   "metadata": {},
   "outputs": [],
   "source": [
    "tree = F.softmax(F.softmax(a))\n",
    "print(tree.create_metadata())\n",
    "print([Combination.SOFTMAX, Transformation.SOFTMAX])"
   ]
  },
  {
   "cell_type": "code",
   "execution_count": null,
   "metadata": {},
   "outputs": [],
   "source": [
    "train_dataset.add_example([R.b[3], R.c[5]])\n",
    "train_dataset.add_queries([R.a[8]])"
   ]
  },
  {
   "cell_type": "code",
   "execution_count": null,
   "metadata": {},
   "outputs": [],
   "source": [
    "#template += (R.a <= (R.b, R.c)) | [Combination.AVG, Transformation.IDENTITY, Aggregation.AVG]\n",
    "template += (R.a <= (x:=R.b, y:= R.c)) >> F.avg[F.relu(x + y)]"
   ]
  },
  {
   "cell_type": "code",
   "execution_count": null,
   "metadata": {},
   "outputs": [],
   "source": [
    "template.draw()"
   ]
  },
  {
   "cell_type": "code",
   "execution_count": null,
   "metadata": {},
   "outputs": [],
   "source": [
    "settings = Settings(optimizer=SGD(), epochs=1)\n",
    "neuralogic_evaluator = get_evaluator(template, settings)\n",
    "build_dataset = neuralogic_evaluator.build_dataset(train_dataset)\n",
    "\n",
    "for _ in neuralogic_evaluator.train(train_dataset):\n",
    "    pass\n",
    "\n",
    "build_dataset[0].draw()"
   ]
  }
 ],
 "metadata": {
  "kernelspec": {
   "display_name": "bak",
   "language": "python",
   "name": "python3"
  },
  "language_info": {
   "codemirror_mode": {
    "name": "ipython",
    "version": 3
   },
   "file_extension": ".py",
   "mimetype": "text/x-python",
   "name": "python",
   "nbconvert_exporter": "python",
   "pygments_lexer": "ipython3",
   "version": "3.10.14"
  }
 },
 "nbformat": 4,
 "nbformat_minor": 2
}

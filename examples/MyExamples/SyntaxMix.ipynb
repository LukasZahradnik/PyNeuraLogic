{
 "cells": [
  {
   "cell_type": "code",
   "execution_count": null,
   "metadata": {},
   "outputs": [],
   "source": [
    "from neuralogic.core import Template, R, V, C\n",
    "from neuralogic.core.constructs.function.tree import FunctionContainer as F\n",
    "from neuralogic.dataset import Dataset\n",
    "\n",
    "template = Template()\n",
    "dataset = Dataset()"
   ]
  },
  {
   "cell_type": "code",
   "execution_count": null,
   "metadata": {},
   "outputs": [],
   "source": [
    "# normal\n",
    "template += (R.a <= (x:=R.b, y:= R.c)) >> F.avg[F.relu(x + y)]\n",
    "\n",
    "# weights\n",
    "template += (R.message2(V.X)[5,10] <= (x:= R.message1(V.Y)[10,20], y:= R.edge(V.Y, V.X))) >> F.avg(F.relu(x + y))\n",
    "\n",
    "# square brackets\n",
    "template += (R.message2(V.X)[5,10] <= F.avg[F.relu(R.message1(V.Y)[10,20] + R.edge(V.Y, V.X))])\n",
    "\n",
    "# multiple\n",
    "template += (R.a <= (x:=R.b, y:= R.c, z:= R.d, q:= R.e)) >> F.avg[F.relu(x + y + z + q)]\n",
    "\n",
    "# var\n",
    "template += (R.predict(V.X) <= F.avg[F.relu(R.node(V.Y) + R.edge(V.Y, V.X))])"
   ]
  }
 ],
 "metadata": {
  "language_info": {
   "name": "python"
  }
 },
 "nbformat": 4,
 "nbformat_minor": 2
}

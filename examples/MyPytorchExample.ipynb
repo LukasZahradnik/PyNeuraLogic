{
 "cells": [
  {
   "cell_type": "code",
   "execution_count": null,
   "metadata": {},
   "outputs": [],
   "source": [
    "import torch\n",
    "from neuralogic.core.constructs.function.tree import F\n",
    "from neuralogic.core import R, Template, Settings, Transformation, Combination\n",
    "from neuralogic.core.settings import Settings\n",
    "from neuralogic.dataset import Dataset\n",
    "from neuralogic.nn import get_evaluator\n",
    "from neuralogic.optim import SGD\n",
    "\n",
    "\n",
    "train_dataset = Dataset()\n",
    "template = Template()\n",
    "train_dataset.add_example([R.b[3], R.c[5]])\n",
    "\n",
    "tensor1 = torch.tensor([[1, 2, 3], [4, 5, 6]])\n",
    "tensor2 = torch.tensor([[7, 8, 9], [10, 11, 12]])"
   ]
  },
  {
   "cell_type": "code",
   "execution_count": null,
   "metadata": {},
   "outputs": [],
   "source": [
    "# PyTorch Example\n",
    "\n",
    "result = F.identity(tensor1 + tensor2 * tensor2)\n",
    "print(result)"
   ]
  },
  {
   "cell_type": "code",
   "execution_count": null,
   "metadata": {},
   "outputs": [],
   "source": [
    "# Java Example\n",
    "\n",
    "# at the moment just creates the tree and prints it, without any evaluation\n",
    "template += (R.a <= (x:=R.b, y:= R.c)) >> F.identity(x * y)\n",
    "# R.a    ||   x:= R.b    ||     y:= R.c    ||     R.a <= ()   ||    x * y   ||    F.identity  ||    >>   ||   template +=\n",
    "\n",
    "#template += (R.a <= (R.b, R.c)) | [Combination.PRODUCT, Transformation.IDENTITY]"
   ]
  },
  {
   "cell_type": "code",
   "execution_count": null,
   "metadata": {},
   "outputs": [],
   "source": [
    "train_dataset.add_queries([R.a[3]])\n",
    "\n",
    "settings = Settings(optimizer=SGD(), epochs=1)\n",
    "# calling evaluator with template with rules that have no metadata\n",
    "neuralogic_evaluator = get_evaluator(template, settings)\n",
    "\n",
    "build_dataset = neuralogic_evaluator.build_dataset(train_dataset)\n",
    "\n",
    "for _ in neuralogic_evaluator.train(train_dataset):\n",
    "    pass"
   ]
  },
  {
   "cell_type": "code",
   "execution_count": null,
   "metadata": {},
   "outputs": [],
   "source": [
    "build_dataset[0].draw()"
   ]
  }
 ],
 "metadata": {
  "kernelspec": {
   "display_name": "bak",
   "language": "python",
   "name": "python3"
  },
  "language_info": {
   "codemirror_mode": {
    "name": "ipython",
    "version": 3
   },
   "file_extension": ".py",
   "mimetype": "text/x-python",
   "name": "python",
   "nbconvert_exporter": "python",
   "pygments_lexer": "ipython3",
   "version": "3.10.14"
  }
 },
 "nbformat": 4,
 "nbformat_minor": 2
}

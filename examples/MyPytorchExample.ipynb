{
 "cells": [
  {
   "cell_type": "code",
   "execution_count": 1,
   "metadata": {},
   "outputs": [
    {
     "name": "stderr",
     "output_type": "stream",
     "text": [
      "C:\\Users\\kraus\\Plocha\\BAK\\PyNeuraLogicFork\\neuralogic\\core\\builder\\builder.py:4: TqdmExperimentalWarning: Using `tqdm.autonotebook.tqdm` in notebook mode. Use `tqdm.tqdm` instead to force console mode (e.g. in jupyter console)\n",
      "  from tqdm.autonotebook import tqdm\n"
     ]
    }
   ],
   "source": [
    "import torch\n",
    "from neuralogic.core.constructs.function.tree import F\n",
    "from neuralogic.core import R, Template, Settings, Transformation, Combination\n",
    "from neuralogic.core.settings import Settings\n",
    "from neuralogic.dataset import Dataset\n",
    "from neuralogic.nn import get_evaluator\n",
    "from neuralogic.optim import SGD\n",
    "\n",
    "\n",
    "train_dataset = Dataset()\n",
    "template = Template()\n",
    "train_dataset.add_example([R.b[3], R.c[5]])\n",
    "\n",
    "tensor1 = torch.tensor([[1, 2, 3], [4, 5, 6]])\n",
    "tensor2 = torch.tensor([[7, 8, 9], [10, 11, 12]])"
   ]
  },
  {
   "cell_type": "code",
   "execution_count": 2,
   "metadata": {},
   "outputs": [
    {
     "name": "stdout",
     "output_type": "stream",
     "text": [
      "it is tensor apparently1\n",
      "tensor([[ 50,  66,  84],\n",
      "        [104, 126, 150]])\n"
     ]
    },
    {
     "name": "stderr",
     "output_type": "stream",
     "text": [
      "C:\\Users\\kraus\\Plocha\\BAK\\PyNeuraLogicFork\\neuralogic\\core\\constructs\\function\\tree.py:68: UserWarning: To copy construct from a tensor, it is recommended to use sourceTensor.clone().detach() or sourceTensor.clone().detach().requires_grad_(True), rather than torch.tensor(sourceTensor).\n",
      "  return torch.tensor(value)\n"
     ]
    }
   ],
   "source": [
    "# PyTorch Example\n",
    "\n",
    "result = F.identity(tensor1 + tensor2 * tensor2)\n",
    "print(result)"
   ]
  },
  {
   "cell_type": "code",
   "execution_count": 3,
   "metadata": {},
   "outputs": [
    {
     "name": "stdout",
     "output_type": "stream",
     "text": [
      "it is not tensor, it is tree1\n",
      "identity{(b.*c.)}\n"
     ]
    }
   ],
   "source": [
    "# Java Example\n",
    "\n",
    "# at the moment just creates the tree and prints it, without any evaluation\n",
    "template += (R.a <= (x:=R.b, y:= R.c)) >> F.identity(x * y)\n",
    "# R.a    ||   x:= R.b    ||     y:= R.c    ||     R.a <= ()   ||    x * y   ||    F.identity  ||    >>   ||   template +=\n",
    "\n",
    "#template += (R.a <= (R.b, R.c)) | [Combination.PRODUCT, Transformation.IDENTITY]"
   ]
  },
  {
   "cell_type": "code",
   "execution_count": 4,
   "metadata": {},
   "outputs": [
    {
     "ename": "java.util.InputMismatchException",
     "evalue": "java.util.InputMismatchException: Query: [a] was not matched anywhere in the ground network - Cannot calculate its output!",
     "output_type": "error",
     "traceback": [
      "\u001b[1;31m---------------------------------------------------------------------------\u001b[0m",
      "\u001b[1;31mException\u001b[0m                                 Traceback (most recent call last)",
      "File \u001b[1;32mPipeline.java:91\u001b[0m, in \u001b[0;36mcz.cvut.fel.ida.pipelines.Pipeline.execute\u001b[1;34m()\u001b[0m\n",
      "\u001b[1;31mException\u001b[0m: Java Exception",
      "\nThe above exception was the direct cause of the following exception:\n",
      "\u001b[1;31mjava.util.InputMismatchException\u001b[0m          Traceback (most recent call last)",
      "Cell \u001b[1;32mIn[4], line 7\u001b[0m\n\u001b[0;32m      4\u001b[0m \u001b[38;5;66;03m# calling evaluator with template with rules that have no metadata\u001b[39;00m\n\u001b[0;32m      5\u001b[0m neuralogic_evaluator \u001b[38;5;241m=\u001b[39m get_evaluator(template, settings)\n\u001b[1;32m----> 7\u001b[0m build_dataset \u001b[38;5;241m=\u001b[39m \u001b[43mneuralogic_evaluator\u001b[49m\u001b[38;5;241;43m.\u001b[39;49m\u001b[43mbuild_dataset\u001b[49m\u001b[43m(\u001b[49m\u001b[43mtrain_dataset\u001b[49m\u001b[43m)\u001b[49m\n\u001b[0;32m      9\u001b[0m \u001b[38;5;28;01mfor\u001b[39;00m _ \u001b[38;5;129;01min\u001b[39;00m neuralogic_evaluator\u001b[38;5;241m.\u001b[39mtrain(train_dataset):\n\u001b[0;32m     10\u001b[0m     \u001b[38;5;28;01mpass\u001b[39;00m\n",
      "File \u001b[1;32m~\\Plocha\\BAK\\PyNeuraLogicFork\\neuralogic\\nn\\base.py:120\u001b[0m, in \u001b[0;36mAbstractEvaluator.build_dataset\u001b[1;34m(self, dataset, batch_size, file_mode, learnable_facts, progress)\u001b[0m\n\u001b[0;32m    110\u001b[0m \u001b[38;5;28;01mdef\u001b[39;00m \u001b[38;5;21mbuild_dataset\u001b[39m(\n\u001b[0;32m    111\u001b[0m     \u001b[38;5;28mself\u001b[39m,\n\u001b[0;32m    112\u001b[0m     dataset: Union[BaseDataset, BuiltDataset],\n\u001b[1;32m   (...)\u001b[0m\n\u001b[0;32m    117\u001b[0m     progress: \u001b[38;5;28mbool\u001b[39m \u001b[38;5;241m=\u001b[39m \u001b[38;5;28;01mFalse\u001b[39;00m,\n\u001b[0;32m    118\u001b[0m ):\n\u001b[0;32m    119\u001b[0m     \u001b[38;5;28;01mif\u001b[39;00m \u001b[38;5;28misinstance\u001b[39m(dataset, BaseDataset):\n\u001b[1;32m--> 120\u001b[0m         \u001b[38;5;28;01mreturn\u001b[39;00m \u001b[38;5;28;43mself\u001b[39;49m\u001b[38;5;241;43m.\u001b[39;49m\u001b[43mneuralogic_model\u001b[49m\u001b[38;5;241;43m.\u001b[39;49m\u001b[43mbuild_dataset\u001b[49m\u001b[43m(\u001b[49m\n\u001b[0;32m    121\u001b[0m \u001b[43m            \u001b[49m\u001b[43mdataset\u001b[49m\u001b[43m,\u001b[49m\n\u001b[0;32m    122\u001b[0m \u001b[43m            \u001b[49m\u001b[43mbatch_size\u001b[49m\u001b[38;5;241;43m=\u001b[39;49m\u001b[43mbatch_size\u001b[49m\u001b[43m,\u001b[49m\n\u001b[0;32m    123\u001b[0m \u001b[43m            \u001b[49m\u001b[43mfile_mode\u001b[49m\u001b[38;5;241;43m=\u001b[39;49m\u001b[43mfile_mode\u001b[49m\u001b[43m,\u001b[49m\n\u001b[0;32m    124\u001b[0m \u001b[43m            \u001b[49m\u001b[43mlearnable_facts\u001b[49m\u001b[38;5;241;43m=\u001b[39;49m\u001b[43mlearnable_facts\u001b[49m\u001b[43m,\u001b[49m\n\u001b[0;32m    125\u001b[0m \u001b[43m            \u001b[49m\u001b[43mprogress\u001b[49m\u001b[38;5;241;43m=\u001b[39;49m\u001b[43mprogress\u001b[49m\u001b[43m,\u001b[49m\n\u001b[0;32m    126\u001b[0m \u001b[43m        \u001b[49m\u001b[43m)\u001b[49m\n\u001b[0;32m    127\u001b[0m     \u001b[38;5;28;01mreturn\u001b[39;00m dataset\n",
      "File \u001b[1;32m~\\Plocha\\BAK\\PyNeuraLogicFork\\neuralogic\\nn\\base.py:36\u001b[0m, in \u001b[0;36mAbstractNeuraLogic.build_dataset\u001b[1;34m(self, dataset, batch_size, file_mode, learnable_facts, progress)\u001b[0m\n\u001b[0;32m     27\u001b[0m \u001b[38;5;28;01mdef\u001b[39;00m \u001b[38;5;21mbuild_dataset\u001b[39m(\n\u001b[0;32m     28\u001b[0m     \u001b[38;5;28mself\u001b[39m,\n\u001b[0;32m     29\u001b[0m     dataset: BaseDataset,\n\u001b[1;32m   (...)\u001b[0m\n\u001b[0;32m     34\u001b[0m     progress: \u001b[38;5;28mbool\u001b[39m \u001b[38;5;241m=\u001b[39m \u001b[38;5;28;01mFalse\u001b[39;00m,\n\u001b[0;32m     35\u001b[0m ):\n\u001b[1;32m---> 36\u001b[0m     \u001b[38;5;28;01mreturn\u001b[39;00m \u001b[38;5;28;43mself\u001b[39;49m\u001b[38;5;241;43m.\u001b[39;49m\u001b[43mdataset_builder\u001b[49m\u001b[38;5;241;43m.\u001b[39;49m\u001b[43mbuild_dataset\u001b[49m\u001b[43m(\u001b[49m\n\u001b[0;32m     37\u001b[0m \u001b[43m        \u001b[49m\u001b[43mdataset\u001b[49m\u001b[43m,\u001b[49m\n\u001b[0;32m     38\u001b[0m \u001b[43m        \u001b[49m\u001b[38;5;28;43mself\u001b[39;49m\u001b[38;5;241;43m.\u001b[39;49m\u001b[43msettings\u001b[49m\u001b[43m,\u001b[49m\n\u001b[0;32m     39\u001b[0m \u001b[43m        \u001b[49m\u001b[43mbatch_size\u001b[49m\u001b[38;5;241;43m=\u001b[39;49m\u001b[43mbatch_size\u001b[49m\u001b[43m,\u001b[49m\n\u001b[0;32m     40\u001b[0m \u001b[43m        \u001b[49m\u001b[43mfile_mode\u001b[49m\u001b[38;5;241;43m=\u001b[39;49m\u001b[43mfile_mode\u001b[49m\u001b[43m,\u001b[49m\n\u001b[0;32m     41\u001b[0m \u001b[43m        \u001b[49m\u001b[43mlearnable_facts\u001b[49m\u001b[38;5;241;43m=\u001b[39;49m\u001b[43mlearnable_facts\u001b[49m\u001b[43m,\u001b[49m\n\u001b[0;32m     42\u001b[0m \u001b[43m        \u001b[49m\u001b[43mprogress\u001b[49m\u001b[38;5;241;43m=\u001b[39;49m\u001b[43mprogress\u001b[49m\u001b[43m,\u001b[49m\n\u001b[0;32m     43\u001b[0m \u001b[43m    \u001b[49m\u001b[43m)\u001b[49m\n",
      "File \u001b[1;32m~\\Plocha\\BAK\\PyNeuraLogicFork\\neuralogic\\core\\builder\\dataset_builder.py:190\u001b[0m, in \u001b[0;36mDatasetBuilder.build_dataset\u001b[1;34m(self, dataset, settings, batch_size, file_mode, learnable_facts, progress)\u001b[0m\n\u001b[0;32m    184\u001b[0m     queries, one_query_per_example \u001b[38;5;241m=\u001b[39m \u001b[38;5;28mself\u001b[39m\u001b[38;5;241m.\u001b[39mbuild_queries(queries, query_builder)\n\u001b[0;32m    186\u001b[0m     logic_samples \u001b[38;5;241m=\u001b[39m DatasetBuilder\u001b[38;5;241m.\u001b[39mmerge_queries_with_examples(\n\u001b[0;32m    187\u001b[0m         queries, examples, one_query_per_example, example_queries\n\u001b[0;32m    188\u001b[0m     )\n\u001b[1;32m--> 190\u001b[0m     samples \u001b[38;5;241m=\u001b[39m \u001b[43mBuilder\u001b[49m\u001b[43m(\u001b[49m\u001b[43msettings\u001b[49m\u001b[43m)\u001b[49m\u001b[38;5;241;43m.\u001b[39;49m\u001b[43mfrom_logic_samples\u001b[49m\u001b[43m(\u001b[49m\u001b[38;5;28;43mself\u001b[39;49m\u001b[38;5;241;43m.\u001b[39;49m\u001b[43mparsed_template\u001b[49m\u001b[43m,\u001b[49m\u001b[43m \u001b[49m\u001b[43mlogic_samples\u001b[49m\u001b[43m,\u001b[49m\u001b[43m \u001b[49m\u001b[43mprogress\u001b[49m\u001b[43m)\u001b[49m\n\u001b[0;32m    192\u001b[0m     \u001b[38;5;28mself\u001b[39m\u001b[38;5;241m.\u001b[39mjava_factory\u001b[38;5;241m.\u001b[39mweight_factory \u001b[38;5;241m=\u001b[39m weight_factory\n\u001b[0;32m    193\u001b[0m \u001b[38;5;28;01melif\u001b[39;00m \u001b[38;5;28misinstance\u001b[39m(dataset, datasets\u001b[38;5;241m.\u001b[39mFileDataset):\n",
      "File \u001b[1;32m~\\Plocha\\BAK\\PyNeuraLogicFork\\neuralogic\\core\\builder\\builder.py:63\u001b[0m, in \u001b[0;36mBuilder.from_logic_samples\u001b[1;34m(self, parsed_template, logic_samples, progress)\u001b[0m\n\u001b[0;32m     61\u001b[0m \u001b[38;5;28;01mif\u001b[39;00m progress:\n\u001b[0;32m     62\u001b[0m     \u001b[38;5;28;01mreturn\u001b[39;00m \u001b[38;5;28mself\u001b[39m\u001b[38;5;241m.\u001b[39m_build_samples_with_progress(parsed_template, \u001b[38;5;28;01mNone\u001b[39;00m, logic_samples)\n\u001b[1;32m---> 63\u001b[0m \u001b[38;5;28;01mreturn\u001b[39;00m \u001b[38;5;28;43mself\u001b[39;49m\u001b[38;5;241;43m.\u001b[39;49m\u001b[43m_build_samples\u001b[49m\u001b[43m(\u001b[49m\u001b[43mparsed_template\u001b[49m\u001b[43m,\u001b[49m\u001b[43m \u001b[49m\u001b[38;5;28;43;01mNone\u001b[39;49;00m\u001b[43m,\u001b[49m\u001b[43m \u001b[49m\u001b[43mlogic_samples\u001b[49m\u001b[43m)\u001b[49m\n",
      "File \u001b[1;32m~\\Plocha\\BAK\\PyNeuraLogicFork\\neuralogic\\core\\builder\\builder.py:82\u001b[0m, in \u001b[0;36mBuilder._build_samples\u001b[1;34m(self, parsed_template, sources, logic_samples, callback)\u001b[0m\n\u001b[0;32m     79\u001b[0m     logic_samples \u001b[38;5;241m=\u001b[39m jpype\u001b[38;5;241m.\u001b[39mjava\u001b[38;5;241m.\u001b[39mutil\u001b[38;5;241m.\u001b[39mArrayList(logic_samples)\u001b[38;5;241m.\u001b[39mstream()\n\u001b[0;32m     80\u001b[0m     source_pipeline \u001b[38;5;241m=\u001b[39m \u001b[38;5;28mself\u001b[39m\u001b[38;5;241m.\u001b[39mexample_builder\u001b[38;5;241m.\u001b[39mbuildPipeline(parsed_template, logic_samples, callback)\n\u001b[1;32m---> 82\u001b[0m \u001b[43msource_pipeline\u001b[49m\u001b[38;5;241;43m.\u001b[39;49m\u001b[43mexecute\u001b[49m\u001b[43m(\u001b[49m\u001b[38;5;28;43;01mNone\u001b[39;49;00m\u001b[43m \u001b[49m\u001b[38;5;28;43;01mif\u001b[39;49;00m\u001b[43m \u001b[49m\u001b[43msources\u001b[49m\u001b[43m \u001b[49m\u001b[38;5;129;43;01mis\u001b[39;49;00m\u001b[43m \u001b[49m\u001b[38;5;28;43;01mNone\u001b[39;49;00m\u001b[43m \u001b[49m\u001b[38;5;28;43;01melse\u001b[39;49;00m\u001b[43m \u001b[49m\u001b[43msources\u001b[49m\u001b[38;5;241;43m.\u001b[39;49m\u001b[43msources\u001b[49m\u001b[43m)\u001b[49m\n\u001b[0;32m     83\u001b[0m java_model \u001b[38;5;241m=\u001b[39m source_pipeline\u001b[38;5;241m.\u001b[39mget()\n\u001b[0;32m     85\u001b[0m logic_samples \u001b[38;5;241m=\u001b[39m java_model\u001b[38;5;241m.\u001b[39ms\n",
      "\u001b[1;31mjava.util.InputMismatchException\u001b[0m: java.util.InputMismatchException: Query: [a] was not matched anywhere in the ground network - Cannot calculate its output!"
     ]
    }
   ],
   "source": [
    "train_dataset.add_queries([R.a[3]])\n",
    "\n",
    "settings = Settings(optimizer=SGD(), epochs=1)\n",
    "# calling evaluator with template with rules that have no metadata\n",
    "neuralogic_evaluator = get_evaluator(template, settings)\n",
    "\n",
    "build_dataset = neuralogic_evaluator.build_dataset(train_dataset)\n",
    "\n",
    "for _ in neuralogic_evaluator.train(train_dataset):\n",
    "    pass"
   ]
  },
  {
   "cell_type": "code",
   "execution_count": null,
   "metadata": {},
   "outputs": [],
   "source": [
    "build_dataset[0].draw()"
   ]
  }
 ],
 "metadata": {
  "kernelspec": {
   "display_name": "bak",
   "language": "python",
   "name": "python3"
  },
  "language_info": {
   "codemirror_mode": {
    "name": "ipython",
    "version": 3
   },
   "file_extension": ".py",
   "mimetype": "text/x-python",
   "name": "python",
   "nbconvert_exporter": "python",
   "pygments_lexer": "ipython3",
   "version": "3.10.14"
  }
 },
 "nbformat": 4,
 "nbformat_minor": 2
}

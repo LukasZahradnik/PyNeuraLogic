{
 "cells": [
  {
   "cell_type": "markdown",
   "metadata": {
    "collapsed": true,
    "pycharm": {
     "name": "#%% raw\n"
    }
   },
   "source": [
    "# Data Usage"
   ]
  },
  {
   "cell_type": "code",
   "execution_count": 1,
   "metadata": {
    "pycharm": {
     "name": "#%%\n"
    }
   },
   "outputs": [],
   "source": [
    "from neuralogic.dataset import Data, TensorDataset\n",
    "\n",
    "\n",
    "# Some node features (don't have to be one hot encoded)\n",
    "node_features = [\n",
    "    [0, 0, 1],  # Node 0 features\n",
    "    [1, 0, 0],  # Node 1 features\n",
    "    [0, 1, 0],  # Node 2 features\n",
    "]\n",
    "\n",
    "edge_index = [ # Two edges -> (0, 1), (2, 0)\n",
    "    [0, 2],    # Edge source\n",
    "    [1, 0],    # Edge dest\n",
    "]\n",
    "\n",
    "target = 5  # Doesn't have to be scalar"
   ]
  },
  {
   "cell_type": "code",
   "execution_count": 2,
   "metadata": {
    "pycharm": {
     "name": "#%%\n"
    }
   },
   "outputs": [],
   "source": [
    "data = Data(x=node_features, edge_index=edge_index, y=target)"
   ]
  },
  {
   "cell_type": "markdown",
   "metadata": {},
   "source": [
    "## Translation into rules"
   ]
  },
  {
   "cell_type": "code",
   "execution_count": 3,
   "metadata": {},
   "outputs": [],
   "source": [
    "query, examples = data.to_logic_form()"
   ]
  },
  {
   "cell_type": "code",
   "execution_count": 4,
   "metadata": {},
   "outputs": [
    {
     "data": {
      "text/plain": [
       "'5.0 predict.'"
      ]
     },
     "execution_count": 4,
     "metadata": {},
     "output_type": "execute_result"
    }
   ],
   "source": [
    "str(query)"
   ]
  },
  {
   "cell_type": "code",
   "execution_count": 5,
   "metadata": {},
   "outputs": [
    {
     "name": "stdout",
     "output_type": "stream",
     "text": [
      "<1> edge(0, 1).\n",
      "<1> edge(2, 0).\n",
      "<[0, 0, 1]> node_feature(0).\n",
      "<[1, 0, 0]> node_feature(1).\n",
      "<[0, 1, 0]> node_feature(2).\n"
     ]
    }
   ],
   "source": [
    "for example in examples:\n",
    "    print(example)"
   ]
  },
  {
   "cell_type": "markdown",
   "metadata": {},
   "source": [
    "### Translation customization"
   ]
  },
  {
   "cell_type": "markdown",
   "metadata": {},
   "source": [
    "#### Target label to one hot encoding"
   ]
  },
  {
   "cell_type": "code",
   "execution_count": 6,
   "metadata": {},
   "outputs": [],
   "source": [
    "query, examples = data.to_logic_form(one_hot_encode_labels=True, max_classes=10)"
   ]
  },
  {
   "cell_type": "code",
   "execution_count": 7,
   "metadata": {},
   "outputs": [
    {
     "data": {
      "text/plain": [
       "'[0.0, 0.0, 0.0, 0.0, 0.0, 1.0, 0.0, 0.0, 0.0, 0.0] predict.'"
      ]
     },
     "execution_count": 7,
     "metadata": {},
     "output_type": "execute_result"
    }
   ],
   "source": [
    "# the 6th (target is 5, indexing starts with 0) element out of 10 elements (max_classes arg) is set to one\n",
    "str(query)"
   ]
  },
  {
   "cell_type": "markdown",
   "metadata": {},
   "source": [
    "#### One hot features decoding"
   ]
  },
  {
   "cell_type": "code",
   "execution_count": 8,
   "metadata": {},
   "outputs": [],
   "source": [
    "query, examples = data.to_logic_form(one_hot_decode_features=True)"
   ]
  },
  {
   "cell_type": "code",
   "execution_count": 9,
   "metadata": {},
   "outputs": [
    {
     "name": "stdout",
     "output_type": "stream",
     "text": [
      "<1> edge(0, 1).\n",
      "<1> edge(2, 0).\n",
      "<1> node_feature_2(0).\n",
      "<1> node_feature_0(1).\n",
      "<1> node_feature_1(2).\n"
     ]
    }
   ],
   "source": [
    "for example in examples:\n",
    "    print(example)"
   ]
  },
  {
   "cell_type": "code",
   "execution_count": 10,
   "metadata": {},
   "outputs": [],
   "source": [
    "# node_feature_<argmax(features)>(node_id)\n",
    "# [0, 0, 1] node_feature(0) -> node_feature_2(0)"
   ]
  },
  {
   "cell_type": "markdown",
   "metadata": {},
   "source": [
    "#### Changing predicates' names"
   ]
  },
  {
   "cell_type": "code",
   "execution_count": 11,
   "metadata": {},
   "outputs": [],
   "source": [
    "query, examples = data.to_logic_form(feature_name=\"atom\", edge_name=\"bond\", output_name=\"output\")"
   ]
  },
  {
   "cell_type": "code",
   "execution_count": 12,
   "metadata": {},
   "outputs": [
    {
     "data": {
      "text/plain": [
       "'5.0 output.'"
      ]
     },
     "execution_count": 12,
     "metadata": {},
     "output_type": "execute_result"
    }
   ],
   "source": [
    "str(query)"
   ]
  },
  {
   "cell_type": "code",
   "execution_count": 13,
   "metadata": {},
   "outputs": [
    {
     "name": "stdout",
     "output_type": "stream",
     "text": [
      "<1> bond(0, 1).\n",
      "<1> bond(2, 0).\n",
      "<[0, 0, 1]> atom(0).\n",
      "<[1, 0, 0]> atom(1).\n",
      "<[0, 1, 0]> atom(2).\n"
     ]
    }
   ],
   "source": [
    "for example in examples:\n",
    "    print(example)"
   ]
  },
  {
   "cell_type": "markdown",
   "metadata": {},
   "source": [
    "# Dataset usage with Data"
   ]
  },
  {
   "cell_type": "code",
   "execution_count": 14,
   "metadata": {},
   "outputs": [],
   "source": [
    "list_of_samples = [\n",
    "    data,\n",
    "]"
   ]
  },
  {
   "cell_type": "code",
   "execution_count": 15,
   "metadata": {},
   "outputs": [],
   "source": [
    "dataset = TensorDataset(data=list_of_samples)"
   ]
  },
  {
   "cell_type": "markdown",
   "metadata": {},
   "source": [
    "You can dump dataset into files (in the logic/java form) with `dataset.dump_to_file` (takes str filenames) or `dataset.dump` (takes writable objects -> objects with methods `write`) "
   ]
  },
  {
   "cell_type": "markdown",
   "metadata": {},
   "source": [
    "Customizations supported by `Data` can be set via `Dataset` constructor."
   ]
  },
  {
   "cell_type": "code",
   "execution_count": 16,
   "metadata": {},
   "outputs": [],
   "source": [
    "dataset = TensorDataset(data=list_of_samples, feature_name=\"bond\")  # same with one hot encodings/decodings etc."
   ]
  },
  {
   "cell_type": "markdown",
   "metadata": {},
   "source": [
    "Datasets in this (tensor) representation can be used as any other datasets -> you can just pass them into the `build_dataset` method or the forward propagation method without any extra steps needed"
   ]
  }
 ],
 "metadata": {
  "kernelspec": {
   "display_name": "Python 3 (ipykernel)",
   "language": "python",
   "name": "python3"
  },
  "language_info": {
   "codemirror_mode": {
    "name": "ipython",
    "version": 3
   },
   "file_extension": ".py",
   "mimetype": "text/x-python",
   "name": "python",
   "nbconvert_exporter": "python",
   "pygments_lexer": "ipython3",
   "version": "3.8.10"
  }
 },
 "nbformat": 4,
 "nbformat_minor": 1
}

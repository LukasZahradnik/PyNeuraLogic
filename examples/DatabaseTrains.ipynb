{
 "cells": [
  {
   "cell_type": "markdown",
   "id": "c587f9a5",
   "metadata": {},
   "source": [
    "# Input data/DB dump"
   ]
  },
  {
   "cell_type": "code",
   "execution_count": null,
   "id": "d720eb64",
   "metadata": {},
   "outputs": [],
   "source": [
    "train_example_data = [\n",
    "    #index, id, pos, shape, length, size, roof, wheels, loadshape, loadnum\n",
    "    (1, 1, 1, \"rectangle\", \"short\", \"not_double\", \"none\", 2, \"circle\", 1),\n",
    "    (2, 1, 2, \"rectangle\", \"long\", \"not_double\", \"none\", 3, \"hexagon\", 1),\n",
    "    (3, 1, 3, \"rectangle\", \"short\", \"not_double\", \"peaked\", 2, \"triangle\", 1),\n",
    "    (4, 1, 4, \"rectangle\", \"long\", \"not_double\", \"none\", 2, \"rectangle\", 3),\n",
    "    (5, 2, 1, \"rectangle\", \"short\", \"not_double\", \"flat\", 2, \"circle\", 2),\n",
    "    (6, 2, 2, \"bucket\", \"short\", \"not_double\", \"none\", 2, \"rectangle\", 1),\n",
    "    (7, 2, 3, \"u_shaped\", \"short\", \"not_double\", \"none\", 2, \"triangle\", 1),\n",
    "    (8, 3, 1, \"rectangle\", \"long\", \"not_double\", \"flat\", 3, \"triangle\", 1),\n",
    "    (9, 3, 2, \"hexagon\", \"short\", \"not_double\", \"flat\", 2, \"triangle\", 1),\n",
    "    (10, 3, 3, \"rectangle\", \"short\", \"not_double\", \"none\", 2, \"circle\", 1),\n",
    "    (11, 4, 1, \"rectangle\", \"short\", \"not_double\", \"none\", 2, \"rectangle\", 1),\n",
    "    (12, 4, 2, \"ellipse\", \"short\", \"not_double\", \"arc\", 2, \"diamond\", 1),\n",
    "    (13, 4, 3, \"rectangle\", \"short\", \"double\", \"none\", 2, \"triangle\", 1),\n",
    "    (14, 4, 4, \"bucket\", \"short\", \"not_double\", \"none\", 2, \"triangle\", 1),\n",
    "    (15, 5, 1, \"rectangle\", \"short\", \"not_double\", \"flat\", 2, \"circle\", 1),\n",
    "    (16, 5, 2, \"rectangle\", \"long\", \"not_double\", \"flat\", 3, \"rectangle\", 1),\n",
    "    (17, 5, 3, \"rectangle\", \"short\", \"double\", \"none\", 2, \"triangle\", 1),\n",
    "    (18, 6, 1, \"rectangle\", \"long\", \"not_double\", \"jagged\", 3, \"rectangle\", 1),\n",
    "    (19, 6, 2, \"hexagon\", \"short\", \"not_double\", \"flat\", 2, \"circle\", 1),\n",
    "    (20, 6, 3, \"rectangle\", \"short\", \"not_double\", \"none\", 2, \"triangle\", 1),\n",
    "    (21, 6, 4, \"rectangle\", \"long\", \"not_double\", \"jagged\", 2, \"rectangle\", 0),\n",
    "    (22, 7, 1, \"rectangle\", \"long\", \"not_double\", \"none\", 2, \"hexagon\", 1),\n",
    "    (23, 7, 2, \"rectangle\", \"short\", \"not_double\", \"none\", 2, \"rectangle\", 1),\n",
    "    (24, 7, 3, \"rectangle\", \"short\", \"not_double\", \"flat\", 2, \"triangle\", 1),\n",
    "    (25, 8, 1, \"rectangle\", \"short\", \"not_double\", \"peaked\", 2, \"rectangle\", 1),\n",
    "    (26, 8, 2, \"bucket\", \"short\", \"not_double\", \"none\", 2, \"rectangle\", 1),\n",
    "    (27, 8, 3, \"rectangle\", \"long\", \"not_double\", \"flat\", 2, \"circle\", 1),\n",
    "    (28, 8, 4, \"rectangle\", \"short\", \"not_double\", \"none\", 2, \"rectangle\", 1),\n",
    "    (29, 9, 1, \"rectangle\", \"long\", \"not_double\", \"none\", 2, \"rectangle\", 3),\n",
    "    (30, 9, 2, \"rectangle\", \"short\", \"not_double\", \"none\", 2, \"circle\", 1),\n",
    "    (31, 9, 3, \"rectangle\", \"long\", \"not_double\", \"jagged\", 3, \"hexagon\", 1),\n",
    "    (32, 9, 4, \"u_shaped\", \"short\", \"not_double\", \"none\", 2, \"triangle\", 1),\n",
    "    (33, 10, 1, \"bucket\", \"short\", \"not_double\", \"none\", 2, \"triangle\", 1),\n",
    "    (34, 10, 2, \"u_shaped\", \"short\", \"not_double\", \"none\", 2, \"circle\", 1),\n",
    "    (35, 10, 3, \"rectangle\", \"short\", \"not_double\", \"none\", 2, \"triangle\", 1),\n",
    "    (36, 10, 4, \"rectangle\", \"short\", \"not_double\", \"none\", 2, \"triangle\", 1),\n",
    "    (37, 11, 1, \"rectangle\", \"short\", \"not_double\", \"none\", 2, \"triangle\", 1),\n",
    "    (38, 11, 2, \"rectangle\", \"long\", \"not_double\", \"flat\", 2, \"circle\", 3),\n",
    "    (39, 12, 1, \"rectangle\", \"long\", \"not_double\", \"jagged\", 2, \"circle\", 0),\n",
    "    (40, 12, 2, \"u_shaped\", \"short\", \"not_double\", \"none\", 2, \"triangle\", 1),\n",
    "    (41, 12, 3, \"rectangle\", \"short\", \"double\", \"none\", 2, \"circle\", 1),\n",
    "    (42, 13, 1, \"u_shaped\", \"short\", \"not_double\", \"none\", 2, \"circle\", 1),\n",
    "    (43, 13, 2, \"rectangle\", \"long\", \"not_double\", \"flat\", 3, \"rectangle\", 1),\n",
    "    (44, 14, 1, \"bucket\", \"short\", \"not_double\", \"none\", 2, \"circle\", 1),\n",
    "    (45, 14, 2, \"rectangle\", \"short\", \"not_double\", \"none\", 2, \"rectangle\", 1),\n",
    "    (46, 14, 3, \"rectangle\", \"long\", \"not_double\", \"jagged\", 3, \"rectangle\", 1),\n",
    "    (47, 14, 4, \"bucket\", \"short\", \"not_double\", \"none\", 2, \"circle\", 1),\n",
    "    (48, 15, 1, \"rectangle\", \"long\", \"not_double\", \"none\", 2, \"rectangle\", 2),\n",
    "    (49, 15, 2, \"u_shaped\", \"short\", \"not_double\", \"none\", 2, \"rectangle\", 1),\n",
    "    (50, 16, 1, \"bucket\", \"short\", \"not_double\", \"none\", 2, \"rectangle\", 1),\n",
    "    (51, 16, 2, \"rectangle\", \"long\", \"not_double\", \"flat\", 2, \"triangle\", 3),\n",
    "    (52, 17, 1, \"rectangle\", \"long\", \"not_double\", \"none\", 2, \"hexagon\", 1),\n",
    "    (53, 17, 2, \"rectangle\", \"short\", \"not_double\", \"none\", 2, \"circle\", 1),\n",
    "    (54, 17, 3, \"rectangle\", \"short\", \"double\", \"none\", 2, \"circle\", 1),\n",
    "    (55, 17, 4, \"rectangle\", \"long\", \"not_double\", \"none\", 2, \"rectangle\", 3),\n",
    "    (56, 18, 1, \"u_shaped\", \"short\", \"not_double\", \"none\", 2, \"triangle\", 1),\n",
    "    (57, 18, 2, \"rectangle\", \"long\", \"not_double\", \"none\", 3, \"rectangle\", 3),\n",
    "    (58, 19, 1, \"rectangle\", \"long\", \"not_double\", \"flat\", 3, \"rectangle\", 3),\n",
    "    (59, 19, 2, \"rectangle\", \"long\", \"not_double\", \"flat\", 2, \"rectangle\", 3),\n",
    "    (60, 19, 3, \"rectangle\", \"long\", \"not_double\", \"none\", 2, \"rectangle\", 0),\n",
    "    (61, 19, 4, \"u_shaped\", \"short\", \"not_double\", \"none\", 2, \"triangle\", 1),\n",
    "    (62, 20, 1, \"rectangle\", \"long\", \"not_double\", \"flat\", 3, \"hexagon\", 1),\n",
    "    (63, 20, 2, \"u_shaped\", \"short\", \"not_double\", \"none\", 2, \"triangle\", 1),\n",
    "]\n"
   ]
  },
  {
   "cell_type": "markdown",
   "id": "6d0fc697",
   "metadata": {},
   "source": [
    "## Create dataset and template"
   ]
  },
  {
   "cell_type": "code",
   "execution_count": null,
   "id": "a60901d0",
   "metadata": {},
   "outputs": [],
   "source": [
    "from neuralogic.core import R, Template, V, C\n",
    "from neuralogic.dataset import Dataset\n",
    "\n",
    "\n",
    "dataset = Dataset()\n",
    "template = Template()\n",
    "\n",
    "# Naive trains - one big example\n",
    "\n",
    "# fmt: off\n",
    "\n",
    "shapes = [C.ellipse, C.rectangle, C.bucket, C.hexagon, C.u_shaped]\n",
    "roofs = [C.jagged, C.arc, C.none, C.flat, C.peaked]\n",
    "loadshapes = [C.hexagon, C.triangle, C.diamond, C.rectangle, C.circle]\n",
    "vagon_atoms = [R.shape, R.length, R.sides, R.wheels, R.loadnum, R.loadshape, R.roof]\n",
    "\n",
    "template.add_rules(\n",
    "    [\n",
    "        *[R.shape(V.X, V.Y) <= R.shape(V.X, V.Y, s)[1,] for s in shapes],\n",
    "        *[R.length(V.X, V.Y) <= R.length(V.X, V.Y, s)[1,] for s in [C.short, C.long]],\n",
    "        *[R.sides(V.X, V.Y) <= R.sides(V.X, V.Y, s)[1,] for s in [C.not_double, C.double]],\n",
    "        *[R.roof(V.X, V.Y) <= R.roof(V.X, V.Y, s)[1,] for s in roofs],\n",
    "        *[R.wheels(V.X, V.Y) <= R.wheels(V.X, V.Y, s)[1,] for s in [2, 3]],\n",
    "        *[R.loadnum(V.X, V.Y) <= R.loadnum(V.X, V.Y, s)[1,] for s in [0, 1, 2, 3]],\n",
    "        *[R.loadshape(V.X, V.Y) <= R.loadshape(V.X, V.Y, s)[1,] for s in loadshapes],\n",
    "        R.vagon(V.X, V.Y) <= (atom(V.X, V.Y)[1,] for atom in vagon_atoms),\n",
    "        *[R.train(V.X) <= R.vagon(V.X, i)[1,] for i in [1, 2, 3, 4]],\n",
    "        R.direction(V.X) <= R.train(V.X)[1,],\n",
    "    ]\n",
    ")\n",
    "\n",
    "dataset.add_example(\n",
    "    [\n",
    "        atom\n",
    "        for _, id, pos, shape, length, sides, roof, wheels, load, loadnum in train_example_data\n",
    "        for atom in [\n",
    "            R.shape(id, pos, shape),\n",
    "            R.length(id, pos, length),\n",
    "            R.sides(id, pos, sides),\n",
    "            R.roof(id, pos, roof),\n",
    "            R.wheels(id, pos, wheels),\n",
    "            R.loadshape(id, pos, load),\n",
    "            R.loadnum(id, pos, loadnum),\n",
    "        ]\n",
    "    ]\n",
    ")\n",
    "\n",
    "dataset.add_queries(\n",
    "    [*[R.direction(i)[1.0] for i in range(1, 11)], *[R.direction(i)[-1.0] for i in range(11, 21)]]\n",
    ")"
   ]
  },
  {
   "cell_type": "markdown",
   "id": "1ca3d889",
   "metadata": {},
   "source": [
    "## Training model"
   ]
  },
  {
   "cell_type": "code",
   "execution_count": null,
   "id": "3eae5d38",
   "metadata": {},
   "outputs": [],
   "source": [
    "from neuralogic.nn import get_evaluator\n",
    "from neuralogic.core import Backend, Settings\n",
    "from neuralogic.optim import SGD\n",
    "\n",
    "\n",
    "settings = Settings(optimizer=SGD(), epochs=300)\n",
    "neuralogic_evaluator = get_evaluator(template, settings, Backend.JAVA)\n"
   ]
  },
  {
   "cell_type": "code",
   "execution_count": null,
   "id": "bc4a0de8",
   "metadata": {},
   "outputs": [],
   "source": [
    "printouts = 10\n",
    "\n",
    "for epoch, (total_loss, seen_instances) in enumerate(neuralogic_evaluator.train(dataset)):\n",
    "    if epoch % printouts == 0:\n",
    "        print(\n",
    "            f\"Epoch {epoch}, total loss: {total_loss}, instances: {seen_instances}, average loss {total_loss / seen_instances}\"\n",
    "        )\n"
   ]
  },
  {
   "cell_type": "code",
   "execution_count": null,
   "id": "7fd0935b",
   "metadata": {},
   "outputs": [],
   "source": [
    "labels = [*[1.0 for i in range(1, 11)], *[-1.0 for i in range(11, 21)]]\n",
    "\n",
    "for label, predicted in zip(labels, neuralogic_evaluator.test(dataset)):\n",
    "    print(f\"Label: {label}, predicted: {predicted}\")\n"
   ]
  },
  {
   "cell_type": "markdown",
   "id": "813f492e",
   "metadata": {},
   "source": [
    "## Creating convertor\n",
    "\n",
    "Each `TableMapping` maps a predicate to a table and columns.\n",
    "E.g., `TableMapping(\"shape\", \"trains\", [\"id\", \"pos\", \"shape\"])` maps `R.shape(V.X, V.Y, V.Z)` to the `trains` table and its terms to columns `id`, `pos`, and `shape`."
   ]
  },
  {
   "cell_type": "code",
   "execution_count": null,
   "id": "0cf3e783",
   "metadata": {},
   "outputs": [],
   "source": [
    "from neuralogic.db import PostgresConverter, TableMapping\n",
    "\n",
    "mappings = [\n",
    "    TableMapping(\"shape\", \"trains\", [\"id\", \"pos\", \"shape\"]),\n",
    "    TableMapping(\"length\", \"trains\", [\"id\", \"pos\", \"length\"]),\n",
    "    TableMapping(\"sides\", \"trains\", [\"id\", \"pos\", \"side\"]),\n",
    "    TableMapping(\"roof\", \"trains\", [\"id\", \"pos\", \"roof\"]),\n",
    "    TableMapping(\"wheels\", \"trains\", [\"id\", \"pos\", \"wheels\"]),\n",
    "    TableMapping(\"loadshape\", \"trains\", [\"id\", \"pos\", \"loadshape\"]),\n",
    "    TableMapping(\"loadnum\", \"trains\", [\"id\", \"pos\", \"loadnum\"]),\n",
    "]\n",
    "\n",
    "converter = PostgresConverter(neuralogic_evaluator.model, mappings, neuralogic_evaluator.settings)"
   ]
  },
  {
   "cell_type": "markdown",
   "id": "21626552",
   "metadata": {},
   "source": [
    "## Printing all used helper functions (activations, aggregations, etc.)"
   ]
  },
  {
   "cell_type": "code",
   "execution_count": null,
   "id": "57064f1d",
   "metadata": {},
   "outputs": [],
   "source": [
    "print(converter.get_std_functions())"
   ]
  },
  {
   "cell_type": "markdown",
   "id": "2d53f119",
   "metadata": {},
   "source": [
    "## Printing functions source for evaluation of the model in SQL (except for helper functions)"
   ]
  },
  {
   "cell_type": "code",
   "execution_count": null,
   "id": "2fd9fad7",
   "metadata": {},
   "outputs": [],
   "source": [
    "print(converter.to_sql())"
   ]
  }
 ],
 "metadata": {
  "kernelspec": {
   "display_name": "Python 3 (ipykernel)",
   "language": "python",
   "name": "python3"
  },
  "language_info": {
   "codemirror_mode": {
    "name": "ipython",
    "version": 3
   },
   "file_extension": ".py",
   "mimetype": "text/x-python",
   "name": "python",
   "nbconvert_exporter": "python",
   "pygments_lexer": "ipython3",
   "version": "3.9.7"
  }
 },
 "nbformat": 4,
 "nbformat_minor": 5
}

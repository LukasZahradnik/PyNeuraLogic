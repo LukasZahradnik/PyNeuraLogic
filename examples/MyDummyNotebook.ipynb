{
 "cells": [
  {
   "cell_type": "code",
   "execution_count": 1,
   "metadata": {
    "ExecuteTime": {
     "start_time": "2024-04-01T19:13:04.524680Z"
    },
    "collapsed": false
   },
   "outputs": [
    {
     "name": "stderr",
     "output_type": "stream",
     "text": [
      "C:\\Users\\kraus\\Plocha\\BAK\\PyNeuraLogicFork\\neuralogic\\core\\builder\\builder.py:4: TqdmExperimentalWarning: Using `tqdm.autonotebook.tqdm` in notebook mode. Use `tqdm.tqdm` instead to force console mode (e.g. in jupyter console)\n",
      "  from tqdm.autonotebook import tqdm\n"
     ]
    }
   ],
   "source": [
    "\n",
    "from neuralogic.nn import get_evaluator\n",
    "from neuralogic.core import R, Template, V, C, Settings, Transformation, Combination, Aggregation\n",
    "from neuralogic.core.constructs.function.tree import FunctionContainer\n",
    "from neuralogic.core.settings import Settings\n",
    "from neuralogic.dataset import Dataset\n",
    "from neuralogic.optim import SGD\n",
    "\n",
    "F = FunctionContainer()\n",
    "train_dataset = Dataset()\n",
    "template = Template()\n",
    "\n",
    "#train_dataset.add_example([R.b[3], R.c[5]])\n",
    "\n",
    "# just write to template list of operations to perform\n",
    "\n",
    "#template += (R.a <= (R.b, R.c)) >> F.avg[F.relu(R.b + R.c)]\n",
    "\n",
    "#template += (R.a <= (R.b, R.c)) | [Combination.SUM, Transformation.RELU, Aggregation.AVG]\n",
    "#template += (R.a <= (R.b, R.c)) | [Combination.PRODUCT, Transformation.IDENTITY, Aggregation.AVG]\n",
    "#template += (R.message2(V.X)[5,10] <= (x:= R.message1(V.Y)[10,20], y:= R.edge(V.Y, V.X))) >> F.avg[F.relu(x+y)]\n",
    "#template += (R.message2(V.X)[5,10] <= (R.message1(V.Y)[10,20], R.edge(V.Y, V.X))) | [Combination.SUM, Transformation.RELU, Aggregation.AVG]\n",
    "#template += (R.message2(V.X)[5,10] <= (x:= R.message1(V.Y)[10,20], y:= R.edge(V.Y, V.X))) >> F.avg(F.relu(x + y))\n",
    "# NOT WORKING \n",
    "#template += (R.message2(V.X)[5,10] <= F.avg[F.relu(R.message1(V.Y)[10,20] + R.edge(V.Y, V.X))])\n",
    "\n"
   ]
  },
  {
   "cell_type": "code",
   "execution_count": 2,
   "metadata": {},
   "outputs": [
    {
     "data": {
      "text/plain": [
       "'\\n#R.message1(C.a), R.message1(C.b), R.edge(C.a,C.b), R.edge(C.b,C.a)\\ntrain_dataset.add_examples(\\n    [\\n        R.message1(C.a), R.message1(C.b), R.messsage1(C.c),\\n        R.edge(C.a,C.b), R.edge(C.b,C.a), R.edge(C.a, C.c), R.edge(C.c, C.a)\\n    ]\\n)\\n# following line is to be done\\n# template += R.message2(V.Y) <= F.avg[F.relu(R.message1(V.X) + R.edge(V.Y, V.X))]\\ntemplate += (R.message2(V.X) <= (R.message1(V.Y), R.edge(V.Y, V.X))) | [Combination.SUM, Transformation.RELU, Aggregation.AVG]\\ntemplate += (R.predict <= R.message2(V.X)) \\n#train_dataset.add_queries([R.predict[1]])\\ntrain_dataset.add_queries([\\n    R.predict(1)[1],\\n    R.predict(2)[1],\\n    R.predict(3)[1],\\n    R.predict(4)[0],\\n    R.predict(5)[0],\\n    R.predict(6)[0],\\n    R.predict(7)[1]\\n])\\ntemplate.draw()\\n'"
      ]
     },
     "execution_count": 2,
     "metadata": {},
     "output_type": "execute_result"
    }
   ],
   "source": [
    "\"\"\"\n",
    "#R.message1(C.a), R.message1(C.b), R.edge(C.a,C.b), R.edge(C.b,C.a)\n",
    "train_dataset.add_examples(\n",
    "    [\n",
    "        R.message1(C.a), R.message1(C.b), R.messsage1(C.c),\n",
    "        R.edge(C.a,C.b), R.edge(C.b,C.a), R.edge(C.a, C.c), R.edge(C.c, C.a)\n",
    "    ]\n",
    ")\n",
    "# following line is to be done\n",
    "# template += R.message2(V.Y) <= F.avg[F.relu(R.message1(V.X) + R.edge(V.Y, V.X))]\n",
    "template += (R.message2(V.X) <= (R.message1(V.Y), R.edge(V.Y, V.X))) | [Combination.SUM, Transformation.RELU, Aggregation.AVG]\n",
    "template += (R.predict <= R.message2(V.X)) \n",
    "#train_dataset.add_queries([R.predict[1]])\n",
    "train_dataset.add_queries([\n",
    "    R.predict(1)[1],\n",
    "    R.predict(2)[1],\n",
    "    R.predict(3)[1],\n",
    "    R.predict(4)[0],\n",
    "    R.predict(5)[0],\n",
    "    R.predict(6)[0],\n",
    "    R.predict(7)[1]\n",
    "])\n",
    "template.draw()\n",
    "\"\"\"\n"
   ]
  },
  {
   "cell_type": "code",
   "execution_count": 3,
   "metadata": {},
   "outputs": [
    {
     "name": "stdout",
     "output_type": "stream",
     "text": [
      "printing metadata\n",
      "[<neuralogic.core.constructs.function.function.Combination object at 0x0000011AD5934D00>, <neuralogic.core.constructs.function.function.Transformation object at 0x0000011AD59344C0>, <neuralogic.core.constructs.function.function.Aggregation object at 0x0000011AD574DA00>]\n",
      "WARNING - 962\n",
      "new map:\n",
      "{}\n",
      "initialized map:\n",
      "{aggregation=avg, transformation=relu, combination=sum}\n"
     ]
    },
    {
     "data": {
      "image/png": "[encoded data removed]",
      "text/plain": [
       "<IPython.core.display.Image object>"
      ]
     },
     "execution_count": 3,
     "metadata": {},
     "output_type": "execute_result"
    }
   ],
   "source": [
    "train_dataset.add_examples(\n",
    "    [\n",
    "        R.node(C.a), R.node(C.b), R.node(C.c),\n",
    "        R.edge(C.a, C.b), R.edge(C.b, C.a), R.edge(C.a, C.c), R.edge(C.c, C.a)\n",
    "    ]\n",
    ")\n",
    "\n",
    "template += (R.eval(V.X) <= (R.node(V.Y), R.edge(V.Y, V.X))) | [Combination.SUM, Transformation.RELU, Aggregation.AVG]\n",
    "\n",
    "train_dataset.add_queries([\n",
    "    R.eval(C.a),\n",
    "    R.eval(C.a)\n",
    "])\n",
    "template.draw()"
   ]
  },
  {
   "cell_type": "code",
   "execution_count": 4,
   "metadata": {},
   "outputs": [],
   "source": [
    "# template += (rule with metadata)\n",
    "# a = b + c\n",
    "\n",
    "\n",
    "\n",
    "#template += (R.a <= (x:=R.b, y:= R.c)) >> F.identity(x + y)\n",
    "# expression above has following eval order:\n",
    "# R.a    ||   x:= R.b    ||     y:= R.c    ||     R.a <= ()   ||    x + y   ||    F.identity  ||    >>   ||   template +=\n",
    "\n",
    "\n",
    "\n",
    "# [R.relA(V.X) <= (R.relB(V.Y), R.relC(V.Y, V.X))] | [Transformation.SIGMOID]\n",
    "# (R.message2(V.X)[5,10] <= (R.message1(V.Y)[10,20], R.edge(V.Y, V.X))) | [Transformation.RELU, Aggregation.AVG]\n",
    "# (R.m2(V.X) <= [x:=R.m1(V.X), y:=R.edge(V.Y, V.X)]) >> F.sigmoid(x + y)"
   ]
  },
  {
   "cell_type": "code",
   "execution_count": 5,
   "metadata": {},
   "outputs": [
    {
     "name": "stdout",
     "output_type": "stream",
     "text": [
      "WARNING - 962\n",
      "new map:\n",
      "{}\n",
      "initialized map:\n",
      "{aggregation=avg, transformation=relu, combination=sum}\n"
     ]
    },
    {
     "ename": "Exception",
     "evalue": "The size of examples 7 doesn't match the size of queries 1",
     "output_type": "error",
     "traceback": [
      "\u001b[1;31m---------------------------------------------------------------------------\u001b[0m",
      "\u001b[1;31mException\u001b[0m                                 Traceback (most recent call last)",
      "Cell \u001b[1;32mIn[5], line 8\u001b[0m\n\u001b[0;32m      5\u001b[0m \u001b[38;5;66;03m# calling evaluator with template with rules that have no metadata\u001b[39;00m\n\u001b[0;32m      6\u001b[0m neuralogic_evaluator \u001b[38;5;241m=\u001b[39m get_evaluator(template, settings)\n\u001b[1;32m----> 8\u001b[0m build_dataset \u001b[38;5;241m=\u001b[39m \u001b[43mneuralogic_evaluator\u001b[49m\u001b[38;5;241;43m.\u001b[39;49m\u001b[43mbuild_dataset\u001b[49m\u001b[43m(\u001b[49m\u001b[43mtrain_dataset\u001b[49m\u001b[43m)\u001b[49m\n\u001b[0;32m     10\u001b[0m \u001b[38;5;28;01mfor\u001b[39;00m _ \u001b[38;5;129;01min\u001b[39;00m neuralogic_evaluator\u001b[38;5;241m.\u001b[39mtrain(train_dataset):\n\u001b[0;32m     11\u001b[0m     \u001b[38;5;28;01mpass\u001b[39;00m\n",
      "File \u001b[1;32m~\\Plocha\\BAK\\PyNeuraLogicFork\\neuralogic\\nn\\base.py:120\u001b[0m, in \u001b[0;36mAbstractEvaluator.build_dataset\u001b[1;34m(self, dataset, batch_size, file_mode, learnable_facts, progress)\u001b[0m\n\u001b[0;32m    110\u001b[0m \u001b[38;5;28;01mdef\u001b[39;00m \u001b[38;5;21mbuild_dataset\u001b[39m(\n\u001b[0;32m    111\u001b[0m     \u001b[38;5;28mself\u001b[39m,\n\u001b[0;32m    112\u001b[0m     dataset: Union[BaseDataset, BuiltDataset],\n\u001b[1;32m   (...)\u001b[0m\n\u001b[0;32m    117\u001b[0m     progress: \u001b[38;5;28mbool\u001b[39m \u001b[38;5;241m=\u001b[39m \u001b[38;5;28;01mFalse\u001b[39;00m,\n\u001b[0;32m    118\u001b[0m ):\n\u001b[0;32m    119\u001b[0m     \u001b[38;5;28;01mif\u001b[39;00m \u001b[38;5;28misinstance\u001b[39m(dataset, BaseDataset):\n\u001b[1;32m--> 120\u001b[0m         \u001b[38;5;28;01mreturn\u001b[39;00m \u001b[38;5;28;43mself\u001b[39;49m\u001b[38;5;241;43m.\u001b[39;49m\u001b[43mneuralogic_model\u001b[49m\u001b[38;5;241;43m.\u001b[39;49m\u001b[43mbuild_dataset\u001b[49m\u001b[43m(\u001b[49m\n\u001b[0;32m    121\u001b[0m \u001b[43m            \u001b[49m\u001b[43mdataset\u001b[49m\u001b[43m,\u001b[49m\n\u001b[0;32m    122\u001b[0m \u001b[43m            \u001b[49m\u001b[43mbatch_size\u001b[49m\u001b[38;5;241;43m=\u001b[39;49m\u001b[43mbatch_size\u001b[49m\u001b[43m,\u001b[49m\n\u001b[0;32m    123\u001b[0m \u001b[43m            \u001b[49m\u001b[43mfile_mode\u001b[49m\u001b[38;5;241;43m=\u001b[39;49m\u001b[43mfile_mode\u001b[49m\u001b[43m,\u001b[49m\n\u001b[0;32m    124\u001b[0m \u001b[43m            \u001b[49m\u001b[43mlearnable_facts\u001b[49m\u001b[38;5;241;43m=\u001b[39;49m\u001b[43mlearnable_facts\u001b[49m\u001b[43m,\u001b[49m\n\u001b[0;32m    125\u001b[0m \u001b[43m            \u001b[49m\u001b[43mprogress\u001b[49m\u001b[38;5;241;43m=\u001b[39;49m\u001b[43mprogress\u001b[49m\u001b[43m,\u001b[49m\n\u001b[0;32m    126\u001b[0m \u001b[43m        \u001b[49m\u001b[43m)\u001b[49m\n\u001b[0;32m    127\u001b[0m     \u001b[38;5;28;01mreturn\u001b[39;00m dataset\n",
      "File \u001b[1;32m~\\Plocha\\BAK\\PyNeuraLogicFork\\neuralogic\\nn\\base.py:36\u001b[0m, in \u001b[0;36mAbstractNeuraLogic.build_dataset\u001b[1;34m(self, dataset, batch_size, file_mode, learnable_facts, progress)\u001b[0m\n\u001b[0;32m     27\u001b[0m \u001b[38;5;28;01mdef\u001b[39;00m \u001b[38;5;21mbuild_dataset\u001b[39m(\n\u001b[0;32m     28\u001b[0m     \u001b[38;5;28mself\u001b[39m,\n\u001b[0;32m     29\u001b[0m     dataset: BaseDataset,\n\u001b[1;32m   (...)\u001b[0m\n\u001b[0;32m     34\u001b[0m     progress: \u001b[38;5;28mbool\u001b[39m \u001b[38;5;241m=\u001b[39m \u001b[38;5;28;01mFalse\u001b[39;00m,\n\u001b[0;32m     35\u001b[0m ):\n\u001b[1;32m---> 36\u001b[0m     \u001b[38;5;28;01mreturn\u001b[39;00m \u001b[38;5;28;43mself\u001b[39;49m\u001b[38;5;241;43m.\u001b[39;49m\u001b[43mdataset_builder\u001b[49m\u001b[38;5;241;43m.\u001b[39;49m\u001b[43mbuild_dataset\u001b[49m\u001b[43m(\u001b[49m\n\u001b[0;32m     37\u001b[0m \u001b[43m        \u001b[49m\u001b[43mdataset\u001b[49m\u001b[43m,\u001b[49m\n\u001b[0;32m     38\u001b[0m \u001b[43m        \u001b[49m\u001b[38;5;28;43mself\u001b[39;49m\u001b[38;5;241;43m.\u001b[39;49m\u001b[43msettings\u001b[49m\u001b[43m,\u001b[49m\n\u001b[0;32m     39\u001b[0m \u001b[43m        \u001b[49m\u001b[43mbatch_size\u001b[49m\u001b[38;5;241;43m=\u001b[39;49m\u001b[43mbatch_size\u001b[49m\u001b[43m,\u001b[49m\n\u001b[0;32m     40\u001b[0m \u001b[43m        \u001b[49m\u001b[43mfile_mode\u001b[49m\u001b[38;5;241;43m=\u001b[39;49m\u001b[43mfile_mode\u001b[49m\u001b[43m,\u001b[49m\n\u001b[0;32m     41\u001b[0m \u001b[43m        \u001b[49m\u001b[43mlearnable_facts\u001b[49m\u001b[38;5;241;43m=\u001b[39;49m\u001b[43mlearnable_facts\u001b[49m\u001b[43m,\u001b[49m\n\u001b[0;32m     42\u001b[0m \u001b[43m        \u001b[49m\u001b[43mprogress\u001b[49m\u001b[38;5;241;43m=\u001b[39;49m\u001b[43mprogress\u001b[49m\u001b[43m,\u001b[49m\n\u001b[0;32m     43\u001b[0m \u001b[43m    \u001b[49m\u001b[43m)\u001b[49m\n",
      "File \u001b[1;32m~\\Plocha\\BAK\\PyNeuraLogicFork\\neuralogic\\core\\builder\\dataset_builder.py:186\u001b[0m, in \u001b[0;36mDatasetBuilder.build_dataset\u001b[1;34m(self, dataset, settings, batch_size, file_mode, learnable_facts, progress)\u001b[0m\n\u001b[0;32m    183\u001b[0m \u001b[38;5;28mself\u001b[39m\u001b[38;5;241m.\u001b[39mjava_factory\u001b[38;5;241m.\u001b[39mweight_factory \u001b[38;5;241m=\u001b[39m \u001b[38;5;28mself\u001b[39m\u001b[38;5;241m.\u001b[39mjava_factory\u001b[38;5;241m.\u001b[39mget_new_weight_factory()\n\u001b[0;32m    184\u001b[0m queries, one_query_per_example \u001b[38;5;241m=\u001b[39m \u001b[38;5;28mself\u001b[39m\u001b[38;5;241m.\u001b[39mbuild_queries(queries, query_builder)\n\u001b[1;32m--> 186\u001b[0m logic_samples \u001b[38;5;241m=\u001b[39m \u001b[43mDatasetBuilder\u001b[49m\u001b[38;5;241;43m.\u001b[39;49m\u001b[43mmerge_queries_with_examples\u001b[49m\u001b[43m(\u001b[49m\n\u001b[0;32m    187\u001b[0m \u001b[43m    \u001b[49m\u001b[43mqueries\u001b[49m\u001b[43m,\u001b[49m\u001b[43m \u001b[49m\u001b[43mexamples\u001b[49m\u001b[43m,\u001b[49m\u001b[43m \u001b[49m\u001b[43mone_query_per_example\u001b[49m\u001b[43m,\u001b[49m\u001b[43m \u001b[49m\u001b[43mexample_queries\u001b[49m\n\u001b[0;32m    188\u001b[0m \u001b[43m\u001b[49m\u001b[43m)\u001b[49m\n\u001b[0;32m    190\u001b[0m samples \u001b[38;5;241m=\u001b[39m Builder(settings)\u001b[38;5;241m.\u001b[39mfrom_logic_samples(\u001b[38;5;28mself\u001b[39m\u001b[38;5;241m.\u001b[39mparsed_template, logic_samples, progress)\n\u001b[0;32m    192\u001b[0m \u001b[38;5;28mself\u001b[39m\u001b[38;5;241m.\u001b[39mjava_factory\u001b[38;5;241m.\u001b[39mweight_factory \u001b[38;5;241m=\u001b[39m weight_factory\n",
      "File \u001b[1;32m~\\Plocha\\BAK\\PyNeuraLogicFork\\neuralogic\\core\\builder\\dataset_builder.py:229\u001b[0m, in \u001b[0;36mDatasetBuilder.merge_queries_with_examples\u001b[1;34m(queries, examples, one_query_per_example, example_queries)\u001b[0m\n\u001b[0;32m    227\u001b[0m \u001b[38;5;28;01mif\u001b[39;00m one_query_per_example:\n\u001b[0;32m    228\u001b[0m     \u001b[38;5;28;01mif\u001b[39;00m \u001b[38;5;28mlen\u001b[39m(examples) \u001b[38;5;241m!=\u001b[39m \u001b[38;5;28mlen\u001b[39m(queries):\n\u001b[1;32m--> 229\u001b[0m         \u001b[38;5;28;01mraise\u001b[39;00m \u001b[38;5;167;01mException\u001b[39;00m(\n\u001b[0;32m    230\u001b[0m             \u001b[38;5;124mf\u001b[39m\u001b[38;5;124m\"\u001b[39m\u001b[38;5;124mThe size of examples \u001b[39m\u001b[38;5;132;01m{\u001b[39;00m\u001b[38;5;28mlen\u001b[39m(examples)\u001b[38;5;132;01m}\u001b[39;00m\u001b[38;5;124m doesn\u001b[39m\u001b[38;5;124m'\u001b[39m\u001b[38;5;124mt match the size of queries \u001b[39m\u001b[38;5;132;01m{\u001b[39;00m\u001b[38;5;28mlen\u001b[39m(queries)\u001b[38;5;132;01m}\u001b[39;00m\u001b[38;5;124m\"\u001b[39m\n\u001b[0;32m    231\u001b[0m         )\n\u001b[0;32m    233\u001b[0m     logic_samples \u001b[38;5;241m=\u001b[39m []\n\u001b[0;32m    235\u001b[0m     \u001b[38;5;28;01mfor\u001b[39;00m query, example \u001b[38;5;129;01min\u001b[39;00m \u001b[38;5;28mzip\u001b[39m(queries, examples):\n",
      "\u001b[1;31mException\u001b[0m: The size of examples 7 doesn't match the size of queries 1"
     ]
    }
   ],
   "source": [
    "# now useless\n",
    "#train_dataset.add_queries([R.a[8]])\n",
    "\n",
    "settings = Settings(optimizer=SGD(), epochs=1)\n",
    "# calling evaluator with template with rules that have no metadata\n",
    "neuralogic_evaluator = get_evaluator(template, settings)\n",
    "\n",
    "build_dataset = neuralogic_evaluator.build_dataset(train_dataset)\n",
    "\n",
    "for _ in neuralogic_evaluator.train(train_dataset):\n",
    "    pass"
   ]
  },
  {
   "cell_type": "code",
   "execution_count": null,
   "metadata": {
    "ExecuteTime": {
     "end_time": "2024-03-29T05:44:10.910578Z",
     "start_time": "2024-03-29T05:44:10.867674Z"
    }
   },
   "outputs": [],
   "source": [
    "build_dataset[0].draw()"
   ]
  }
 ],
 "metadata": {
  "kernelspec": {
   "display_name": "bak",
   "language": "python",
   "name": "python3"
  },
  "language_info": {
   "codemirror_mode": {
    "name": "ipython",
    "version": 3
   },
   "file_extension": ".py",
   "mimetype": "text/x-python",
   "name": "python",
   "nbconvert_exporter": "python",
   "pygments_lexer": "ipython3",
   "version": "3.10.14"
  },
  "orig_nbformat": 4,
  "vscode": {
   "interpreter": {
    "hash": "cbd6803cf434e52b242cd6e66101bb56a4e205974bf4a23b7c52e776a1582b44"
   }
  }
 },
 "nbformat": 4,
 "nbformat_minor": 2
}

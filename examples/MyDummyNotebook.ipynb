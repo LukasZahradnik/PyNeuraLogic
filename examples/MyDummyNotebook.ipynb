{
 "cells": [
  {
   "cell_type": "code",
   "execution_count": null,
   "metadata": {
    "ExecuteTime": {
     "end_time": "2024-03-29T05:44:10.857689Z",
     "start_time": "2024-03-29T05:44:10.025733Z"
    },
    "collapsed": false
   },
   "outputs": [],
   "source": [
    "\n",
    "from neuralogic.nn import get_evaluator\n",
    "from neuralogic.core import R, Template, V, Settings, Transformation, Combination, Aggregation\n",
    "from neuralogic.core.constructs.function.tree import F\n",
    "from neuralogic.core.settings import Settings\n",
    "from neuralogic.dataset import Dataset\n",
    "from neuralogic.optim import SGD\n",
    "\n",
    "\n",
    "train_dataset = Dataset()\n",
    "template = Template()\n",
    "\n",
    "train_dataset.add_example([R.b[3], R.c[5]])\n",
    "\n",
    "# just write to template list of operations to perform\n",
    "template += (R.a <= (R.b, R.c)) | [Combination.PRODUCT, Transformation.IDENTITY, Aggregation.AVG]\n",
    "template += (R.a <= (x:=R.b, y:= R.c)) >> F.avg[F.identity(x * y)]\n",
    "template += (R.a <= F.avg[F.identity(R.b * R.c)])\n",
    "\n",
    "# template += (rule with metadata)\n",
    "# a = b + c\n",
    "\n",
    "\n",
    "#template += (R.a <= (x:=R.b, y:= R.c)) >> F.identity(x + y)\n",
    "# expression above has following eval order:\n",
    "# R.a    ||   x:= R.b    ||     y:= R.c    ||     R.a <= ()   ||    x + y   ||    F.identity  ||    >>   ||   template +=\n",
    "\n",
    "\n",
    "# now useless\n",
    "train_dataset.add_queries([R.a[3]])\n",
    "\n",
    "# [R.relA(V.X) <= (R.relB(V.Y), R.relC(V.Y, V.X))] | [Transformation.SIGMOID]\n",
    "# (R.message2(V.X)[5,10] <= (R.message1(V.Y)[10,20], R.edge(V.Y, V.X))) | [Transformation.RELU, Aggregation.AVG]\n",
    "# (R.m2(V.X) <= [x:=R.m1(V.X), y:=R.edge(V.Y, V.X)]) >> F.sigmoid(x + y)\n",
    "\n",
    "settings = Settings(optimizer=SGD(), epochs=1)\n",
    "# calling evaluator with template with rules that have no metadata\n",
    "neuralogic_evaluator = get_evaluator(template, settings)\n",
    "\n",
    "build_dataset = neuralogic_evaluator.build_dataset(train_dataset)\n",
    "\n",
    "for _ in neuralogic_evaluator.train(train_dataset):\n",
    "    pass"
   ]
  },
  {
   "cell_type": "code",
   "execution_count": null,
   "metadata": {
    "ExecuteTime": {
     "end_time": "2024-03-29T05:44:10.910578Z",
     "start_time": "2024-03-29T05:44:10.867674Z"
    }
   },
   "outputs": [],
   "source": [
    "build_dataset[0].draw()"
   ]
  }
 ],
 "metadata": {
  "kernelspec": {
   "display_name": "bak",
   "language": "python",
   "name": "python3"
  },
  "language_info": {
   "codemirror_mode": {
    "name": "ipython",
    "version": 3
   },
   "file_extension": ".py",
   "mimetype": "text/x-python",
   "name": "python",
   "nbconvert_exporter": "python",
   "pygments_lexer": "ipython3",
   "version": "3.10.14"
  },
  "orig_nbformat": 4,
  "vscode": {
   "interpreter": {
    "hash": "cbd6803cf434e52b242cd6e66101bb56a4e205974bf4a23b7c52e776a1582b44"
   }
  }
 },
 "nbformat": 4,
 "nbformat_minor": 2
}

{
 "cells": [
  {
   "cell_type": "code",
   "execution_count": 1,
   "metadata": {},
   "outputs": [
    {
     "name": "stderr",
     "output_type": "stream",
     "text": [
      "C:\\Users\\kraus\\Plocha\\VS\\BAK\\PyNeuraLogicFork\\neuralogic\\core\\builder\\builder.py:4: TqdmExperimentalWarning: Using `tqdm.autonotebook.tqdm` in notebook mode. Use `tqdm.tqdm` instead to force console mode (e.g. in jupyter console)\n",
      "  from tqdm.autonotebook import tqdm\n"
     ]
    }
   ],
   "source": [
    "from neuralogic.nn import get_evaluator\n",
    "from neuralogic.core import R, Template, V, Settings, Transformation, Combination\n",
    "from neuralogic.core.constructs.function.function import F\n",
    "from neuralogic.core.settings import Settings\n",
    "from neuralogic.dataset import Dataset\n",
    "from neuralogic.optim import SGD"
   ]
  },
  {
   "cell_type": "code",
   "execution_count": 2,
   "metadata": {},
   "outputs": [
    {
     "name": "stdout",
     "output_type": "stream",
     "text": [
      "1: __le__ called\n",
      "2: __add__ called\n",
      "3: rshift called!\n",
      "identity{(b.+c.)}\n"
     ]
    }
   ],
   "source": [
    "train_dataset = Dataset()\n",
    "template = Template()\n",
    "\n",
    "train_dataset.add_example([R.b[1], R.c[0]])\n",
    "\n",
    "#template += (R.a <= (R.b, R.c)) | [Combination.SUM, Transformation.IDENTITY]\n",
    "template += (R.a <= (x:=R.b, y:= R.c)) >> F.identity(x + y)"
   ]
  },
  {
   "cell_type": "code",
   "execution_count": null,
   "metadata": {},
   "outputs": [],
   "source": [
    "train_dataset.add_queries([R.a[3]])\n",
    "\n",
    "# [R.relA(V.X) <= (R.relB(V.Y), R.relC(V.Y, V.X))] | [Transformation.SIGMOID]\n",
    "# (R.message2(V.X)[5,10] <= (R.message1(V.Y)[10,20], R.edge(V.Y, V.X))) | [Transformation.RELU, Aggregation.AVG]\n",
    "# (R.m2(V.X) <= [x:=R.m1(V.X), y:=R.edge(V.Y, V.X)]) >> F.sigmoid(x + y)\n",
    "\n",
    "settings = Settings(optimizer=SGD(), epochs=1)\n",
    "neuralogic_evaluator = get_evaluator(template, settings)\n",
    "\n",
    "build_dataset = neuralogic_evaluator.build_dataset(train_dataset)\n",
    "\n",
    "for _ in neuralogic_evaluator.train(train_dataset):\n",
    "    pass"
   ]
  },
  {
   "cell_type": "code",
   "execution_count": null,
   "metadata": {},
   "outputs": [],
   "source": [
    "build_dataset[0].draw()"
   ]
  }
 ],
 "metadata": {
  "kernelspec": {
   "display_name": "bak",
   "language": "python",
   "name": "python3"
  },
  "language_info": {
   "codemirror_mode": {
    "name": "ipython",
    "version": 3
   },
   "file_extension": ".py",
   "mimetype": "text/x-python",
   "name": "python",
   "nbconvert_exporter": "python",
   "pygments_lexer": "ipython3",
   "version": "3.10.8 | packaged by conda-forge | (main, Nov 24 2022, 14:07:00) [MSC v.1916 64 bit (AMD64)]"
  },
  "orig_nbformat": 4,
  "vscode": {
   "interpreter": {
    "hash": "cbd6803cf434e52b242cd6e66101bb56a4e205974bf4a23b7c52e776a1582b44"
   }
  }
 },
 "nbformat": 4,
 "nbformat_minor": 2
}
